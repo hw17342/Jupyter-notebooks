{
 "cells": [
  {
   "cell_type": "markdown",
   "metadata": {},
   "source": [
    "# Assignment 2 - Differential Equations\n",
    "\n",
    "Solving partial differential equations is crucial to a huge variety of physical problems encountered in science and engineering. There are many different numerical techniques available, all with their own advantages and disadvantages, and often specific problems are best solved with very specific algorithms.\n",
    "\n",
    "You will have learnt about Euler and Runge-Kutta methods in 2nd year lectures, and you should have explored the class of problem that can be solved with numerical integration in exercises.  In this assignment, we will cover more complex classes of problem - described below.\n",
    "\n",
    "\n",
    "## Initial value problems\n",
    "\n",
    "In this class of problem, the state of a system is fully described by an ordinary differential equation together with an initial condition.  For example, the motion of a body under gravity, with initial conditions given by the position and momentum of the body at a particular point in time.  The soluiton (ie. position and momentum at an arbitrary time in the future) can then be found by integration.  You should have encountered the use of numerical integration in solving such problems in the 2nd year course.\n",
    "\n",
    "## Boundary value problems\n",
    "\n",
    "Boundary value problems differ in that the conditions are specified on a set of boundaries, rather than at just one extreme.  For example, the electric field between a pair of capacitor plates at fixed potential, as discussed in the problem below.\n",
    "\n",
    "There are several numerical approaches for solving boundary value problems, for example :\n",
    "\n",
    "### Shooting Method\n",
    "\n",
    "In this method, the boundary value problem is reduced to an initial value problem, which is solved numerically for different parameter choices. A solution is found when a set of parameters give the desired boundary conditions.  For example, finding a rocket trajectory which joins two specified points in space.  The boundary conditions are the specified points, and the initial momentum is a parameter that may be varied until a solution is found.  (This should sound familiar!)\n",
    "\n",
    "### Finite Difference Methods\n",
    "\n",
    "In this class of method, the differential equation is evaluated at discrete points in space and time, and derivatives are approximated by finite differences.  The Euler and Runga-Kutta methods are simple examples.  These methods typically involve iteration on the set of finite values until a solution is found.\n",
    "\n",
    "### Relaxation\n",
    "\n",
    "This is a common technique used to solve time-independent boundary condition problems.  An initial guess at the solution is supplied, and then allow to \"relax\" by iterating towards the final solution.  Conceptually this is is the same as the time-dependent problem of letting the system reach equilibrium from some arbitrary initial state.\n",
    "\n",
    "The steps for implementing a relaxation method are :\n",
    "1. Define a (normally regular) spatial grid covering the region of interest including points (or “nodes”) on the boundaries\n",
    "2. Impose the boundary conditions by fixing the nodes on the boundaries to the relevant values\n",
    "3. Set all non-boundary nodes to an initial guess\n",
    "4. Write down finite difference equations\n",
    "5. Pick a convergence criterion\n",
    "6. Iterate the equations at each node until the solution converges\n",
    "\n",
    "Care must be taken to choose the form of the equations and iteration method to ensure stability and efficiency."
   ]
  },
  {
   "cell_type": "code",
   "execution_count": 1,
   "metadata": {},
   "outputs": [],
   "source": [
    "'''Here modules all imported'''\n",
    "import numpy as np"
   ]
  },
  {
   "cell_type": "markdown",
   "metadata": {},
   "source": [
    "## Q1 - The Poisson Equation\n",
    "\n",
    "Consider the example of the Poisson equation $(\\nabla^2V = −\\rho)$ in one dimension. The grid of nodes in this case can be taken as a series of $n$ equally spaced points $x_i$ with a spacing $\\Delta x = h$. The Taylor expansion of $V$ around the point $x_i$ is :\n",
    "\n",
    "$$ V(x) = V(x_i) + \\delta x \\frac{dV(x_i)}{dx} + \\delta x^2 \\frac{d^2V(x_i)}{dx^2} + ...$$\n",
    "\n",
    "so adding the values at $\\delta x = \\pm h$ (i.e. at $x_n \\pm 1$) gives :\n",
    "\n",
    "$$ V(x_{i−1}) + V(x_{i+1}) = 2V(x_i) + h^2 \\frac{d^2V(x_i)}{dx^2} $$\n",
    "\n",
    "which can be rearranged to give Equation 1 :\n",
    "\n",
    "$$ \\frac{d^2V(x_i)}{dx^2} = \\frac{V(x_{i−1}) + V(x_{i+1}) − 2V(x_i)}{h^2}  $$\n",
    "\n",
    "This is the standard finite difference representation for the second derivative.\n",
    "\n",
    "Generalising this equation to 2D in the Poisson equation, and rearranging, gives Equation 2, that can be used to iterate the value at each node:\n",
    "\n",
    "$$ V(x_i,y_j)= \\frac{1}{4} (V(x_{i−1},y_j)+V(x_{i+1},y_j)+V(x_i,y_{j−1})+V(x_i,y_{j+1}))+ \\frac{\\rho(x_i,y_j)h^2}{4} $$\n",
    "\n",
    "In the absence of any sources ($\\nabla^2 V=0$, i.e. the Laplace equation) each node is simply the average of its four closest neighbours.\n",
    "\n",
    "This equation can be solved in a number of ways. One option is to calculate a new value for each node based on the previous values for each of the neighbour nodes,  requiring two complete copies of the grid. This is called the Jacobi method. A second option is to update the values on the grid continually, so each node is updated using partially old and partially new values. This is the Gauss-Seidel method."
   ]
  },
  {
   "cell_type": "markdown",
   "metadata": {},
   "source": [
    "## 1a) \n",
    "Write a function to solve Laplace’s equation in two dimensions for the potential V. You should use the finite-difference representation above (with $\\rho=0$) and iterate using either the Jacobi or Gauss-Seidel method. You will need to choose and apply a convergence condition e.g. no node value changes by more than X% between successive iterations.\n",
    "\n",
    "**method options the Jacobi method, the Gauss – Seidel method and the Successive over Relaxation method (SOR)**"
   ]
  },
  {
   "cell_type": "code",
   "execution_count": 2,
   "metadata": {},
   "outputs": [
    {
     "data": {
      "text/plain": [
       "'I have chosen the Jacobi method\\n   1.Equation defined, derivattive equations defined\\n   2.Grid of nodes defined\\n   3.Boundaries set on nodes'"
      ]
     },
     "execution_count": 2,
     "metadata": {},
     "output_type": "execute_result"
    }
   ],
   "source": [
    "'''I have chosen the Jacobi method\n",
    "   1.Equation defined, derivattive equations defined\n",
    "   2.Grid of nodes defined\n",
    "   3.Boundaries set on nodes'''\n"
   ]
  },
  {
   "cell_type": "markdown",
   "metadata": {},
   "source": [
    "**Design** PEP8 (Python Enhancement Proposal) style of coding used to improve readability and reduce errors.\n",
    "\n",
    "**code**\n",
    "It is clear that although the numerical solution is qualitatively similar to the analytical solution, there are signiﬁcant quantitative differences. The derivation of the numerical approximations for the derivatives showed that the error depends on the size of h and Δt. First we test for different Δt. ! Number of time steps= T/Δt"
   ]
  },
  {
   "cell_type": "markdown",
   "metadata": {},
   "source": [
    "Verify your function by checking it works in a simple, known case. Compare the solution found with the analytical solution and quantify the differences. Use this to investigate the sensitivity of your solution to the choice of grid density and convergence condition."
   ]
  },
  {
   "cell_type": "code",
   "execution_count": 2,
   "metadata": {},
   "outputs": [],
   "source": [
    "''' The known case is '''#Use this cell for your code\n"
   ]
  },
  {
   "cell_type": "markdown",
   "metadata": {},
   "source": [
    "**Use this cell to discuss your results**"
   ]
  },
  {
   "cell_type": "markdown",
   "metadata": {},
   "source": [
    "## 1b)\n",
    "Now use your function to calculate the potential and electric field within and around a parallel plate capacitor comprising a pair of plates of length a, separation d. Demonstrate that the field configuration approaches the “infinite” plate solution (E = V/d between plates, E = 0 elsewhere) as the ratio of  becomes large."
   ]
  },
  {
   "cell_type": "code",
   "execution_count": 3,
   "metadata": {},
   "outputs": [],
   "source": [
    "#Use this cell for your code"
   ]
  },
  {
   "cell_type": "markdown",
   "metadata": {},
   "source": [
    "**Use this cell to discuss your results**"
   ]
  },
  {
   "cell_type": "markdown",
   "metadata": {},
   "source": [
    "# Q2 - The Diffusion Equation\n",
    "\n",
    "Solving the diffusion equation \n",
    "\n",
    "$$\\alpha \\nabla^2 \\phi = \\frac{\\partial \\phi}{\\partial t}$$\n",
    "\n",
    "is mathematically similar to solving the Poisson equation. The technique will be to start from known initial conditions and use finite difference equations to propagate the node values forwards in time (subject to any boundary conditions).\n",
    "\n",
    "A first try using Equation 1 above gives the finite difference form:\n",
    "\n",
    "$$\\frac{\\phi′(x_i) − \\phi(x_i)}{\\delta t} = \\frac{\\alpha}{h^2} [\\phi (x_{i−1}) + \\phi(x_{i+1}) − 2\\phi(x_i)]$$\n",
    "\n",
    "Here the values, $\\phi$, at three neighbouring points at a time t are used to evaluate the value $\\phi`$ at the next time step, $t + \\delta t$. This is known as a forward-time or explicit method. Unfortunately, this methood is known to be unstable for certain choices of $h$ and $\\delta t$.\n",
    "\n",
    "A stable alternative is obtained by using the equivalent backward-time or implicit equation:\n",
    "\n",
    "$$\\frac{\\phi'(x_i) - \\phi(x_i)}{\\delta t} = \\frac{\\alpha}{h^2} [\\phi'(x_{i-1}) + \\phi'(x_{i+1}) -  2\\phi'(x_i)] $$\n",
    "\n",
    "Now the spatial derivative on the right-hand side needs to be evaluated at $t + \\delta t$, which may appear problematic as the $\\phi(x)$ values are known while the updated $\\phi′(x)$ values are not. Fortunately Equation 3 can be written explicitly in matrix form and solved using the methods explored in Assignment 1.\n"
   ]
  },
  {
   "cell_type": "markdown",
   "metadata": {},
   "source": [
    "## 2a)\n",
    "An iron poker of length 50 cm is initially at a temperature of 20 C. At time t = 0, one end is thrust into a furnace at 1000 C and the other end is held in an ice bath at 0 C. Ignoring heat losses along the length of the poker, calculate the temperature distribution along it as a function of time. You may take the thermal conductivity of iron to be a constant 59 W/m/K, its specific heat as 450 J/kg/K and its density as 7,900 kg/m3.\n",
    "\n",
    "Your solution should apply the implicit finite difference method above. It is also recommended that you use an appropriate linear algebra routine from numpy/scipy. You should find ways to verify your results, and quantify the uncertainties due to the method. Discuss your results in the text box below."
   ]
  },
  {
   "cell_type": "code",
   "execution_count": 4,
   "metadata": {},
   "outputs": [],
   "source": [
    "# Use this cell for your code"
   ]
  },
  {
   "cell_type": "markdown",
   "metadata": {},
   "source": [
    "**Use this cell to discuss your code and results**"
   ]
  },
  {
   "cell_type": "markdown",
   "metadata": {},
   "source": [
    "## 2b)\n",
    "Now repeat the calculation, but assume the far end of the poker from the furnace is no longer held at 0 C, and experiences no heat loss. You will need to modify your code to achieve this, and you should discuss the motivation for your changes below."
   ]
  },
  {
   "cell_type": "code",
   "execution_count": 2,
   "metadata": {},
   "outputs": [
    {
     "ename": "AttributeError",
     "evalue": "module 'scipy.sparse' has no attribute 'linalg'",
     "output_type": "error",
     "traceback": [
      "\u001b[1;31m---------------------------------------------------------------------------\u001b[0m",
      "\u001b[1;31mAttributeError\u001b[0m                            Traceback (most recent call last)",
      "\u001b[1;32m<ipython-input-2-225a4788cfc1>\u001b[0m in \u001b[0;36m<module>\u001b[1;34m()\u001b[0m\n\u001b[0;32m    144\u001b[0m \u001b[1;33m\u001b[0m\u001b[0m\n\u001b[0;32m    145\u001b[0m \u001b[1;33m\u001b[0m\u001b[0m\n\u001b[1;32m--> 146\u001b[1;33m \u001b[0mTridiagonalBackwardsEuler\u001b[0m\u001b[1;33m(\u001b[0m\u001b[1;36m1\u001b[0m\u001b[1;33m,\u001b[0m \u001b[1;36m0.001\u001b[0m\u001b[1;33m,\u001b[0m \u001b[1;36m0.1\u001b[0m\u001b[1;33m)\u001b[0m\u001b[1;33m\u001b[0m\u001b[0m\n\u001b[0m\u001b[0;32m    147\u001b[0m \u001b[1;33m\u001b[0m\u001b[0m\n\u001b[0;32m    148\u001b[0m \u001b[1;33m\u001b[0m\u001b[0m\n",
      "\u001b[1;32m<ipython-input-2-225a4788cfc1>\u001b[0m in \u001b[0;36mTridiagonalBackwardsEuler\u001b[1;34m(T, dx, dt)\u001b[0m\n\u001b[0;32m    133\u001b[0m         \u001b[0mb\u001b[0m \u001b[1;33m=\u001b[0m \u001b[0mu_init\u001b[0m\u001b[1;33m\u001b[0m\u001b[0m\n\u001b[0;32m    134\u001b[0m         \u001b[0mb\u001b[0m\u001b[1;33m[\u001b[0m\u001b[0mNx\u001b[0m \u001b[1;33m-\u001b[0m \u001b[1;36m1\u001b[0m\u001b[1;33m]\u001b[0m \u001b[1;33m=\u001b[0m \u001b[1;36m273\u001b[0m\u001b[1;33m\u001b[0m\u001b[0m\n\u001b[1;32m--> 135\u001b[1;33m         \u001b[0mu_new\u001b[0m\u001b[1;33m[\u001b[0m\u001b[1;33m:\u001b[0m\u001b[1;33m]\u001b[0m \u001b[1;33m=\u001b[0m \u001b[0mscipy\u001b[0m\u001b[1;33m.\u001b[0m\u001b[0msparse\u001b[0m\u001b[1;33m.\u001b[0m\u001b[0mlinalg\u001b[0m\u001b[1;33m.\u001b[0m\u001b[0mspsolve\u001b[0m\u001b[1;33m(\u001b[0m\u001b[0mA\u001b[0m\u001b[1;33m,\u001b[0m \u001b[0mb\u001b[0m\u001b[1;33m)\u001b[0m\u001b[1;33m\u001b[0m\u001b[0m\n\u001b[0m\u001b[0;32m    136\u001b[0m \u001b[1;33m\u001b[0m\u001b[0m\n\u001b[0;32m    137\u001b[0m         \u001b[1;31m# Update u_1 before next step\u001b[0m\u001b[1;33m\u001b[0m\u001b[1;33m\u001b[0m\u001b[0m\n",
      "\u001b[1;31mAttributeError\u001b[0m: module 'scipy.sparse' has no attribute 'linalg'"
     ]
    }
   ],
   "source": [
    "# Use this cell for your code\n",
    "import numpy as np\n",
    "import matplotlib.pyplot as plt\n",
    "import time\n",
    "import scipy\n",
    "import scipy.linalg\n",
    "\n",
    "\n",
    "def Diffusivity(conductivity, heat_cap, density):\n",
    "\n",
    "    # conductivity in W/m/K\n",
    "    # heat_cap in GJ/kg/K\n",
    "    # density in kg/m3\n",
    "\n",
    "    alpha = conductivity/(density)*(heat_cap)  # Thermal diffusivity\n",
    "    return alpha\n",
    "\n",
    "\n",
    "def Initialise(T, dx, dt):\n",
    "\n",
    "    alpha = (Diffusivity(59, 450*1e-6, 7900))  # 1e-6 converts J to gigaJ\n",
    "    L = 0.5  # 0.5 metres\n",
    "\n",
    "    rod_x = np.arange(0, L + dx, dx)  # rod with units of dx\n",
    "    Nx = len(rod_x)\n",
    "\n",
    "    time_space = np.arange(0, T + dt, dt)\n",
    "    Nt = len(time_space)\n",
    "\n",
    "    F = (alpha*dt)/(dx**2)\n",
    "\n",
    "    u_init = np.zeros(Nx)\n",
    "    # Boundary condition: at t = 0, T = 1000C at LHS and 0 at RHS\n",
    "    # Conversions to kelvin are made by adding 273 to all temperatures\n",
    "    u_init.fill(293)\n",
    "    u_init[0] = 1273\n",
    "    u_init[Nx - 1] = 273\n",
    "    u_new = np.copy(u_init)\n",
    "\n",
    "    return u_new, u_init, F, Nt, Nx, rod_x, time_space\n",
    "\n",
    "\n",
    "def ForwardEuler(T, dx, dt):\n",
    "\n",
    "    t0 = time.time()\n",
    "\n",
    "    u_new, u_init, F, Nt, Nx, rod_x, time_space = Initialise(T, dx, dt)\n",
    "\n",
    "    for n in range(0, Nt):\n",
    "        # Compute u at inner mesh points\n",
    "        for i in range(1, Nx - 1):\n",
    "\n",
    "            u_new[i] = u_init[i] + F*(u_init[i-1] - 2*u_init[i] + u_init[i+1])\n",
    "\n",
    "        # Update u_1 before next step\n",
    "        u_init[:] = u_new\n",
    "\n",
    "    t1 = time.time()\n",
    "    time_taken1 = t1-t0\n",
    "\n",
    "    return rod_x, u_new, time_taken1\n",
    "\n",
    "\n",
    "ForwardEuler(1, 0.001, 0.1)\n",
    "\n",
    "\n",
    "def BackwardsEuler(T, dx, dt):\n",
    "\n",
    "    t0 = time.time()\n",
    "\n",
    "    u_new, u_init, F, Nt, Nx, rod_x, time_space = Initialise(T, dx, dt)\n",
    "\n",
    "    # Data structures for the linear system\n",
    "    A = np.zeros((Nx, Nx))\n",
    "    b = np.zeros(Nx)\n",
    "\n",
    "    for i in range(1, Nx-1):\n",
    "        A[i, i - 1] = -F\n",
    "        A[i, i + 1] = -F\n",
    "        A[i, i] = 1 + 2*F\n",
    "    A[0, 0] = A[Nx - 1, Nx - 1] = 1\n",
    "\n",
    "    for n in range(0, Nt):\n",
    "        # Compute b and solve linear system\n",
    "        for i in range(1, Nx):\n",
    "            b[i] = u_init[i]\n",
    "            b[0] = 1273\n",
    "\n",
    "        u_new[:] = scipy.linalg.solve(A, b)\n",
    "\n",
    "        # Update u_1 before next step\n",
    "        u_init[:] = u_new\n",
    "\n",
    "    t1 = time.time()\n",
    "    time_taken2 = t1 - t0\n",
    "\n",
    "    return rod_x, u_new, time_taken2\n",
    "\n",
    "\n",
    "BackwardsEuler(1, 0.001, 0.1)\n",
    "\n",
    "\n",
    "def TridiagonalBackwardsEuler(T, dx, dt):\n",
    "\n",
    "    t0 = time.time()\n",
    "\n",
    "    u_new, u_init, F, Nt, Nx, rod_x, time_space = Initialise(T, dx, dt)\n",
    "\n",
    "    # Representation of sparse matrix and right-hand side\n",
    "    diagonal = np.zeros(Nx)\n",
    "    lower = np.zeros(Nx-1)\n",
    "    upper = np.zeros(Nx-1)\n",
    "    b = np.zeros(Nx)\n",
    "\n",
    "    # Precompute sparse matrix\n",
    "    diagonal[:] = 1 + 2*F\n",
    "    lower[:] = -F  # 1\n",
    "    upper[:] = -F  # 1\n",
    "    # Insert boundary conditions\n",
    "    diagonal[0] = 1\n",
    "    upper[0] = 0\n",
    "    diagonal[Nx-1] = 1\n",
    "    lower[-1] = 0\n",
    "\n",
    "    A = scipy.sparse.diags(\n",
    "        diagonals=[diagonal, lower, upper],\n",
    "        offsets=[0, -1, 1], shape=(Nx, Nx),\n",
    "        format='csr')\n",
    "\n",
    "    u_init[0] = 1273\n",
    "\n",
    "    for n in range(0, Nt):\n",
    "        b = u_init\n",
    "        b[Nx - 1] = 273\n",
    "        u_new[:] = scipy.sparse.linalg.spsolve(A, b)\n",
    "\n",
    "        # Update u_1 before next step\n",
    "        u_init, u_new = u_new, u_init\n",
    "\n",
    "    t1 = time.time()\n",
    "    time_taken3 = t1 - t0\n",
    "\n",
    "    return rod_x, u_new, time_taken3\n",
    "\n",
    "\n",
    "TridiagonalBackwardsEuler(1, 0.001, 0.1)\n",
    "\n",
    "\n",
    "def ThetaRelation(T, dx, dt):\n",
    "\n",
    "    u_new, u_init, F, Nt, Nx, rod_x, time_space = Initialise(T, dx, dt)\n",
    "    theta = 1\n",
    "    # Representation of sparse matrix and right-hand side\n",
    "    diagonal = np.zeros(Nx)\n",
    "    lower = np.zeros(Nx-1)\n",
    "    upper = np.zeros(Nx-1)\n",
    "    b = np.zeros(Nx)\n",
    "\n",
    "    # Precompute sparse matrix (scipy format)\n",
    "    F_backeuler = F*theta\n",
    "    F_foreeuler = F*(1-theta)\n",
    "\n",
    "    diagonal[:] = 1 + 2*F_backeuler\n",
    "    lower[:] = -F_backeuler\n",
    "    upper[:] = -F_backeuler\n",
    "    # Insert boundary conditions\n",
    "    diagonal[0] = 1\n",
    "    upper[0] = 0\n",
    "    diagonal[Nx - 1] = 1\n",
    "    lower[-1] = 0\n",
    "\n",
    "    A = scipy.sparse.diags(\n",
    "        diagonals=[diagonal, lower, upper],\n",
    "        offsets=[0, -1, 1], shape=(Nx, Nx),\n",
    "        format='csr')\n",
    "\n",
    "    u_new[0] = 1273\n",
    "    b = np.copy(u_new)\n",
    "\n",
    "    # Time loop\n",
    "    for n in range(0, Nt):\n",
    "        b[1:-1] = u_init[1:-1] + F_foreeuler*(\n",
    "                u_init[:-2] - 2*u_init[1:-1`] + u_init[2:])\n",
    "\n",
    "        u_new[:] = scipy.sparse.linalg.spsolve(A, b)\n",
    "\n",
    "        # Update u_1 before next step\n",
    "        #u_1[:] = u\n",
    "        u_init, u_init = u_new, u_init\n",
    "\n",
    "    return rod_x, u_new\n",
    "\n",
    "\n",
    "def PlotTL(Function):\n",
    "\n",
    "    rod_x, u_new = Function(1, 0.001, 0.1)\n",
    "    plt.plot(rod_x, u_new, color='green', label=\"t = 1s\")\n",
    "    rod_x, u_new = Function(10, 0.001, 0.1)\n",
    "    plt.plot(rod_x, u_new, color='red', label=\"t = 10s\")\n",
    "    rod_x, u_new = Function(100, 0.001, 0.1)\n",
    "    plt.plot(rod_x, u_new, color='blue', label=\"t = 100s\")\n",
    "    rod_x, u_new = Function(1000, 0.001, 0.1)\n",
    "    plt.plot(rod_x, u_new, color='orange', label=\"t = 1000s\")\n",
    "    plt.xlabel('Length/m')\n",
    "    plt.ylabel('Temperature/K')\n",
    "    plt.legend()\n",
    "    plt.show()\n",
    "\n",
    "\n",
    "def PlotTimeTaken(Function1, Function2, Function3):\n",
    "\n",
    "#    x_array = [0, 1, 2]\n",
    "    for i in range(0, 101):\n",
    "        rod_x, u_new, time_taken1 = Function1(1, 0.001, 0.1)\n",
    "        rod_x, u_new, time_taken2 = Function2(1, 0.001, 0.1)\n",
    "        rod_x, u_new, time_taken3 = Function3(1, 0.001, 0.1)\n",
    "        time_array = [time_taken1, time_taken2, time_taken3]\n",
    "        plt.scatter(0, time_taken1, color='blue', label=\"Forward Euler Method\",\n",
    "                     marker='x', alpha=0.5)\n",
    "        plt.scatter(1, time_taken2, color='red', label=\"Backward Euler Method\",\n",
    "                    marker='x', alpha=0.5)\n",
    "        plt.scatter(2, time_taken3, color='black',\n",
    "                    label=\"Tridiagonal Matrix method\", marker='x', alpha=0.5)\n",
    "        if i == 0:\n",
    "            plt.legend()\n",
    "\n",
    "    plt.xlabel('Length/m')\n",
    "    plt.ylabel('Temperature/K')\n",
    "    plt.show()\n",
    "\n",
    "PlotTimeTaken(ForwardEuler, BackwardsEuler, TridiagonalBackwardsEuler)\n",
    "\n",
    "plt.show()\n",
    "\n",
    "PlotTimeTaken(ForwardEuler)\n",
    "\n",
    "plt.title(\"Forward Euler method\")\n",
    "PlotTL(ThetaRelation)\n",
    "plt.title(\"Backward Euler method\")\n",
    "PlotTL(BackwardsEuler)\n",
    "plt.title(\"Tridiagonal Matrix method\")\n",
    "Plot(TridiagonalBackwardsEuler)"
   ]
  },
  {
   "cell_type": "markdown",
   "metadata": {},
   "source": [
    "**Use this cell to discuss your code and results**"
   ]
  },
  {
   "cell_type": "markdown",
   "metadata": {},
   "source": [
    "## Extensions\n",
    "\n",
    "There are many possible extensions to this assignment, for example :\n",
    "* Model the field in more complex arrangements than the parallel plate capacitor in 1b).\n",
    "* Model a point charge using the code from Q1? What are the problems/challenges in doing so ?\n",
    "* Demonstrate that the explicit method in Q2 is unstable for some choices of $\\delta t$ and $h$.\n",
    "* Implement higher-order methods (eg. Crank-Nicolson which includes a 2nd order difference for the spaital derivative).\n",
    "\n",
    "You are advised to discuss any extensions with your demonstrator or the unit director.  If you wish to include any extensions, please do so *below* this cell."
   ]
  },
  {
   "cell_type": "code",
   "execution_count": null,
   "metadata": {},
   "outputs": [],
   "source": []
  }
 ],
 "metadata": {
  "kernelspec": {
   "display_name": "Python 3",
   "language": "python",
   "name": "python3"
  },
  "language_info": {
   "codemirror_mode": {
    "name": "ipython",
    "version": 3
   },
   "file_extension": ".py",
   "mimetype": "text/x-python",
   "name": "python",
   "nbconvert_exporter": "python",
   "pygments_lexer": "ipython3",
   "version": "3.6.5"
  }
 },
 "nbformat": 4,
 "nbformat_minor": 2
}
