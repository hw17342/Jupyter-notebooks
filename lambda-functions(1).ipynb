{
 "cells": [
  {
   "cell_type": "markdown",
   "metadata": {},
   "source": [
    "# Lambda Functions\n",
    "\n",
    "This is a short notebook on lambda functions, and some situations in which they are particularly useful.\n",
    "\n",
    "$\\lambda$-calculus is a branch of logic in which computation is expressed in terms of functions that have no state. It is Turing-complete, ie. it can simulate any Turing machine.  Programming with lambda functions is known as functional programming, and several languages (eg. Haskell, Erlang) are designed to enforce this style. Python supports this style of programming, and there are several cases where you may find it particularly useful.\n",
    "\n",
    "Unsurprisingly, in Python lambda functions are created using the lambda keyword, eg.: \n",
    "\n",
    "`lambda: x, x**2`\n",
    "\n",
    "returns an \"anonymous\" function that takes one argument, and returns an expression that depends only on the argument (in this case, the square).  Compare this to regular functions, which are declared with _def_ and are named."
   ]
  },
  {
   "cell_type": "code",
   "execution_count": 5,
   "metadata": {},
   "outputs": [
    {
     "data": {
      "text/plain": [
       "13.0"
      ]
     },
     "execution_count": 5,
     "metadata": {},
     "output_type": "execute_result"
    }
   ],
   "source": [
    "def function(x):\n",
    "    return 0.5*x**2 + x + 1\n",
    "\n",
    "function(4)"
   ]
  },
  {
   "cell_type": "markdown",
   "metadata": {},
   "source": [
    "The equivalent using a lambda function would be :"
   ]
  },
  {
   "cell_type": "code",
   "execution_count": 9,
   "metadata": {},
   "outputs": [
    {
     "data": {
      "text/plain": [
       "13.0"
      ]
     },
     "execution_count": 9,
     "metadata": {},
     "output_type": "execute_result"
    }
   ],
   "source": [
    "(lambda x: 0.5*x**2 + x + 1)(4)"
   ]
  },
  {
   "cell_type": "markdown",
   "metadata": {},
   "source": [
    "This can be particularly useful when working with functions that implement mathematical expressions, and when working with functions that expect functions as arguments.\n",
    "\n",
    "Eg. suppose I want to calculate $\\int_1^4 e^{-x}$.  I can do this in one line with a lambda function :"
   ]
  },
  {
   "cell_type": "code",
   "execution_count": 15,
   "metadata": {},
   "outputs": [
    {
     "data": {
      "text/plain": [
       "(0.34956380228270817, 3.880937818697785e-15)"
      ]
     },
     "execution_count": 15,
     "metadata": {},
     "output_type": "execute_result"
    }
   ],
   "source": [
    "import scipy.integrate\n",
    "import math\n",
    "\n",
    "scipy.integrate.quad(lambda x: math.exp(-1*x), 1., 4.)"
   ]
  },
  {
   "cell_type": "markdown",
   "metadata": {},
   "source": [
    "Another area where lambda functions are useful is in the \"map-reduce\" paradigm. The idea here is that when processing large amounts of data, you want to do as much procesing in parallel as possible. So for a given algorithm, you divide it into a parallel part (map) and a non-parallel part (reduce). When processing huge datasets, the map will be running in parallel on multiple machines.\n",
    "\n",
    "In Python, the map() function takes a function and a list as arguments.  The function is applied to each element in the list, and then a list of the results is returned. Eg. to calculate $$\\sum_{i=1}^{n} i^2$$\n",
    "for n = 1000"
   ]
  },
  {
   "cell_type": "code",
   "execution_count": 32,
   "metadata": {},
   "outputs": [
    {
     "name": "stdout",
     "output_type": "stream",
     "text": [
      "332833500\n"
     ]
    }
   ],
   "source": [
    "import numpy as np\n",
    "from functools import reduce\n",
    "\n",
    "x = np.arange(0,1000)\n",
    "squares = list(map((lambda x: x**2), x))\n",
    "sum = reduce((lambda x, y: x+y), squares)\n",
    "\n",
    "print(sum)"
   ]
  },
  {
   "cell_type": "markdown",
   "metadata": {},
   "source": [
    "Another useful function when working with lists is filter(). This takes a function and a list, applies the function to each element, and retains that element if the function returns True. Try writing a function that accepts the odd values in a list of integers..."
   ]
  },
  {
   "cell_type": "code",
   "execution_count": null,
   "metadata": {},
   "outputs": [],
   "source": []
  },
  {
   "cell_type": "markdown",
   "metadata": {},
   "source": [
    "In summary, lambda functions are useful when you need an anonymous function inside another function."
   ]
  }
 ],
 "metadata": {
  "kernelspec": {
   "display_name": "Python 3",
   "language": "python",
   "name": "python3"
  },
  "language_info": {
   "codemirror_mode": {
    "name": "ipython",
    "version": 3
   },
   "file_extension": ".py",
   "mimetype": "text/x-python",
   "name": "python",
   "nbconvert_exporter": "python",
   "pygments_lexer": "ipython3",
   "version": "3.7.3"
  }
 },
 "nbformat": 4,
 "nbformat_minor": 2
}
