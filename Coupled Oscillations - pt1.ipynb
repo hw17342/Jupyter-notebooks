{
 "cells": [
  {
   "cell_type": "markdown",
   "metadata": {},
   "source": [
    "# Coupled Oscillators - a worked example of the Eigenvalue and Eigenvector analysis."
   ]
  },
  {
   "cell_type": "markdown",
   "metadata": {},
   "source": [
    "## Introduction"
   ]
  },
  {
   "cell_type": "markdown",
   "metadata": {},
   "source": [
    "In the first three lectures of the Classical I: Mechanics and Thermal Physics course we considered the case of coupled oscillators. As you will have realised from the lectures, the full solution to these problems often entails tedious matrix calculations (finding determinants etc.) that are very prone to simple errors in calculation. In practise computers are veryy good at handling these linear algebra problems. The idea of this work book is that you should begin to appreciate the physics of the solutions to the problem and what they mean, without getting bogged down in calculation. This said, you should make sure that you are able to solve eigenvalue/eigenvector problems for simple 2 or 3 particle coupled systems.\n",
    "\n",
    "Before we move on let's consider the general scheme for approaching these problems.\n",
    "\n",
    "Firstly, from the description of the problem you should be able to recognise it as a question of coupled oscillators. Questions will almost always state that you should consider small oscillations, in which case you can assume the potential will be parabolic. You should be able to demonstrate this by consider a Taylor expansion of any sensible 'bowl' like potential. Typical examples might be springs, coupled pendulums, coupled LCR circuits or even the interatomic potentials between atoms.  \n",
    "\n",
    "For our typical mechanics questions it is the solution for the position of the masses as a function of time that we seek.(Coupled LCR circuits will be discussed separately). \n",
    "\n",
    "We will first concentrate on the steps needed to solve the problem using the example given the lectures."
   ]
  },
  {
   "cell_type": "markdown",
   "metadata": {},
   "source": [
    "## Step 1 - The formulation of the coupled oscillator equations"
   ]
  },
  {
   "cell_type": "markdown",
   "metadata": {},
   "source": [
    "In order to solve this problem we need to apply Newtons second law of motion to each of the masses in turn. We should remember that we will specify the coordinate of each mass $m_1$, $m_2$ in terms of their coordinates $x_1$ and $x_2$ that are defined as zero when the masses are in their equilibrium positions. Hence we should obtain,\n",
    "\n",
    "\\begin{equation}\n",
    "m_1 \\ddot x_1 = -k_1x_1+k_2(x_2-x_1) \\\\\n",
    "m_2 \\ddot x_2 = -k_3x_2+k_2(x_1 -x_2)\n",
    "\\end{equation}\n",
    "\n",
    "The trickiest part here is getting the signs correct. For the coupling terms (for example the term including $k_2$) setting either $x_1=0$ or $x_2 = 0$ is often sufficient to check the signs are correct. You should also note by Newton's third law that the force acting between the masses should be equal and opposite for each one. We can write these equations in matrix form as:\n",
    "\n",
    "\\begin{equation}\n",
    "\\left [ \\begin{array}{cc} m_1 & 0 \\\\ 0 & m_2 \\end{array} \\right ]\n",
    "\\left [ \\begin{array}{c} \\ddot x_1 \\\\ \\ddot x_2 \\end{array} \\right ]=\n",
    "\\left [ \\begin{array}{cc} -(k_1+k_2) & k_2 \\\\ k_2 & -(k_2 +k_3) \\end{array} \\right ]\n",
    "\\left [ \\begin{array}{c} x_1 \\\\ x_2 \\end{array} \\right ]\n",
    "\\end{equation}\n",
    "\n",
    "This is the equation we need to solve. \n",
    "\n",
    "At this stage, as we did in lectures we will set $m_1 = m_2= m $. We'll come back to what this means and how we deal with the case $m_1 \\neq m_2$ later. In this case we get,\n",
    "\n",
    "\\begin{equation}\n",
    "\\left [ \\begin{array}{c} \\ddot x_1 \\\\ \\ddot x_2 \\end{array} \\right ]=\\frac{1}{m}\n",
    "\\left [ \\begin{array}{cc} -(k_1+k_2) & k_2 \\\\ k_2 & -(k_2 +k_3) \\end{array} \\right ]\n",
    "\\left [ \\begin{array}{c} x_1 \\\\ x_2 \\end{array} \\right ]\n",
    "\\end{equation}.\n",
    "\n",
    "In contrast to the lectures, where we set $k_1 = k_2 = k_3$, let's make the middle spring stronger so that $k_2 = 2k_1=2k_3=2k$. In this case we have the equation,\n",
    "\n",
    "\\begin{equation}\n",
    "\\left [ \\begin{array}{c} \\ddot x_1 \\\\ \\ddot x_2 \\end{array} \\right ]=-\\frac{k}{m}\n",
    "\\left [ \\begin{array}{cc} 3 & -2 \\\\ -2 & 3 \\end{array} \\right ]\n",
    "\\left [ \\begin{array}{c} x_1 \\\\ x_2 \\end{array} \\right ] \\space\\space ... (1)\n",
    "\\end{equation}."
   ]
  },
  {
   "cell_type": "markdown",
   "metadata": {},
   "source": [
    "## Step 2 - The trial solution\n",
    "\n",
    "Formally we need to solve these coupled differential equations. However, the solutions are well known and closely related to the (uncoupled) simple harmonic oscillator equation where used trials solutions of the form $x=C\\exp(i\\omega t)$. In a similar way we will choose a trial solution for this problem of the form,\n",
    "\n",
    "\\begin{equation}\n",
    "\\left[ \\begin{array}{c} x_1 \\\\x_2 \\end{array} \\right] = \\left[ \\begin{array}{c} C_1 \\\\C_2 \\end{array} \\right] \\exp(i\\omega t) \\space\\space ... (2)\n",
    "\\end{equation}\n",
    "\n",
    "There are a few points to note here. \n",
    "\n",
    "We are no longer imagining the individual masses as moving with simple harmonic motion but we asscociate the oscillatory motion with a vector $\\vec x = \\vec x_0 \\exp(i\\omega t) = (C_1\\hat x_1+C_2 \\hat x_2)\\exp(i\\omega t)$ where $\\hat x_1$ and $\\hat x_2$ are unit vectors in our vector space. The idea of the vector space can be a difficult concept to understand especially when you realise that for $N$ masses we have an $N$ dimensional vector space (and $N$ may be considerably larger than 3!).\n",
    "\n",
    "We will also see that we are not looking for a single frequency but $N$ different frequencies (although they may be degerate, i.e. two independent solutions have the same frequency.)\n",
    "\n",
    "Hence, using the trial solution on (2) and subsituting into (1) we find\n",
    "\n",
    "\\begin{equation}\n",
    "\\omega^2 \\left [ \\begin{array}{c} C_1 \\\\ C_2 \\end{array} \\right ]=-\\frac{k}{m}\n",
    "\\left [ \\begin{array}{cc} 3 & -2 \\\\ -2 & 3 \\end{array} \\right ]\n",
    "\\left [ \\begin{array}{c} C_1 \\\\ C_2 \\end{array} \\right ] \\space\\space ... (3)\n",
    "\\end{equation}.\n",
    "\n",
    "As we know $k$ and $m$ we need to solve this equation to find the values of $\\omega$ and $\\left [ \\begin{array}{c} C_1 \\\\ C_2 \\end{array} \\right ]$. \n",
    "\n",
    "At this point we may also note that we multiply both sides of this equation by an arbitary constant, so we will not find unique values for $C_1$ or $C_2$ although the ratio between them must always be the same. Ultimately the value of these constants is determined when we substitute the initial conditions into our general solution. We can re-arrange (3) to find,\n",
    "\n",
    "\\begin{equation}\n",
    "\\left (-\\frac{k}{m}\n",
    "\\left [ \\begin{array}{cc} 3 & -2 \\\\ -2 & 3 \\end{array} \\right ]\n",
    "-\\omega^2 \\left[ \\begin{array}{cc} 1 & 0 \\\\ 0 & 1 \\end{array} \\right]\\right ) \n",
    "\\left [ \\begin{array}{c} C_1 \\\\ C_2 \\end{array} \\right ] = 0\\space\\space ... (4)\n",
    "\\end{equation}.\n",
    "\n",
    "that we see is in the form \n",
    "\n",
    "\\begin{equation}\n",
    "\\left (A-\\lambda I\\right) \\vec v=0\n",
    "\\end{equation}\n",
    "\n",
    "for which the solutions $\\lambda$ and $\\vec v$ are the eigenvalues and eigenvectors of this equation.\n",
    "\n",
    "\n",
    "\n"
   ]
  },
  {
   "cell_type": "markdown",
   "metadata": {},
   "source": [
    "## Step 3  - Finding the Eigenvalues and Eigenvectors.\n",
    "\n",
    "We may find, either the Eigenvalues in terms of $k$ and $m$ (or sometimes we might write $\\sqrt \\frac{k}{m} =\\omega_0^2$) or we can enter their values. You should make sure that you can do this yourself for $2 \\times 2$ matrices (where you will need to solve a quadratic equation to find the eigenvalues. It is also possible to find analytic (closed form) solutions for $3 \\times 3$ and $4 \\times 4$ problems but the solutions are difficult to remember and apply, so in this course you will only be asked to solve $2 \\times 2$ problems or $3 \\times 3$ problems where it is straightforward to determine the roots of the cubic equation you obtain. In general you cannot find analytic solutions for $N \\ge 5$ although solutions do exist for special cases. \n",
    "\n",
    "In this sheet we will use Python and the Linear Algebra package available with it, to determine the eigenvalues and eigenvectors for this problem. For convenience I will set $\\sqrt\\frac{k}{m} = 1$ but you should be able to modify the code to take into account different values of $k$ and $m$ if you wish\n",
    "\n",
    "Hence, we now wish to find the eigenvalues and eigenvectors of the matrix,\n",
    "\n",
    "\\begin{equation}\n",
    "\\left[ \\begin{array}{cc} 3 & -2 \\\\ -2 & 3 \\end{array} \\right] \n",
    "\\end{equation}\n",
    "\n",
    "Here is the code we need to do the calculation,"
   ]
  },
  {
   "cell_type": "code",
   "execution_count": 1,
   "metadata": {},
   "outputs": [
    {
     "name": "stdout",
     "output_type": "stream",
     "text": [
      "[[ 3 -2]\n",
      " [-2  3]]\n",
      "Eigenvalues\n",
      "[5.+0.j 1.+0.j]\n",
      "Eigenvectors\n",
      "[[ 0.70710678  0.70710678]\n",
      " [-0.70710678  0.70710678]]\n"
     ]
    }
   ],
   "source": [
    "### The first part imports the linear algebra library so it recognises the function needed to calculate the eigenvalues and vectors\n",
    "import numpy as NP\n",
    "from scipy import linalg as LA\n",
    "###\n",
    "### Now we'll enter the array\n",
    "###\n",
    "A = NP.array([[3,-2],[-2,3]])\n",
    "print (A)\n",
    "e_vals,e_vecs = LA.eig(A)\n",
    "print (\"Eigenvalues\")\n",
    "print(e_vals)\n",
    "print (\"Eigenvectors\")\n",
    "print(e_vecs)"
   ]
  },
  {
   "cell_type": "markdown",
   "metadata": {},
   "source": [
    "The python language is not the easiest language to use when creating an manipluating matrices but hopefully you can see how this works. Also note that the eigenvalues are returned as complex numbers with the imaginary part as zero as we expect.\n",
    "\n",
    "From the result we see from this case (slightly different to the lecture) we have two eigenvalues. $\\omega^2 =5$ and $\\omega^2 =1$. \n",
    "\n",
    "The eigenvectors are return as a matrix of normalised column vectors so the first eigenvector is $\\left [\\begin{array}{c} \\frac{1}{\\sqrt{2}} \\\\-\\frac{1}{\\sqrt{2}} \\end{array}\\right ]$ and the second eigenvector is $\\left [\\begin{array}{c} \\frac{1}{\\sqrt{2}} \\\\ \\frac{1}{\\sqrt{2}} \\end{array}\\right ]$. With these results we can see the effect of the stronger spring in the middle. We note that the second eigenvector (eigenvalue = 1) is unchanged from that obtained in the lecture when the spring constants were all the same. In this mode the central spring is never extended or compressed so it should its strength should have no bearing on the result. The first eigenvector is the same as previously but the eigenvalue is higher which again is perhaps unsurprising as we have just increased the net strength of the springs pulling on the mass in this mode.\n",
    "\n",
    "Hence, we'd expect our general solution to be a linear cominbation of these two modes i.e.\n",
    "\n",
    "\\begin{equation}\n",
    "\\left[ \\begin{array}{c} \\ddot x_1 \\\\ \\ddot x_2 \\end{array}\\right]=\n",
    "A\\left [\\begin{array}{c} \\frac{1}{\\sqrt{2}} \\\\-\\frac{1}{\\sqrt{2}} \\end{array}\\right ]\\exp(i(5t))+\n",
    "B\\left [\\begin{array}{c} \\frac{1}{\\sqrt{2}} \\\\\\frac{1}{\\sqrt{2}} \\end{array}\\right ]\\exp(i(1t))\n",
    "\\end{equation}\n",
    "\n",
    "where $A$ and $B$ are constants to be determined from the initial conditions.\n",
    "\n",
    "Note. As you might expect, the eigenvectors are unchanged from the case studied in lectures, but the eigenfrequencies are."
   ]
  },
  {
   "cell_type": "markdown",
   "metadata": {},
   "source": [
    "## Exercise\n",
    "\n",
    "The python code from the example above is copied below. Go back to Step 1 above and find the matrix when you enter different values of $k_1$, $k_2$ and $k_3$. Use the code to calculate the eigenvalues and eigenvectors and try to understand how the nature of the coupled oscillations has changed. Look in particular when $k_1 \\neq k_2 \\neq k_3$ for example, $k_1 = 1, k_2=2, k_3 =3$. Try to interpret physically what is going on. "
   ]
  },
  {
   "cell_type": "code",
   "execution_count": 2,
   "metadata": {},
   "outputs": [
    {
     "name": "stdout",
     "output_type": "stream",
     "text": [
      "[[ 3 -2]\n",
      " [-2  5]]\n",
      "Eigenvalues\n",
      "[1.76393202+0.j 6.23606798+0.j]\n",
      "Eigenvectors\n",
      "[[-0.85065081  0.52573111]\n",
      " [-0.52573111 -0.85065081]]\n"
     ]
    }
   ],
   "source": [
    "### The first part imports the linear algebra library so it recognises the function needed to calculate the eigenvalues and vectors\n",
    "import numpy as NP\n",
    "from scipy import linalg as LA\n",
    "###\n",
    "### Enter values into the array below for the equations of motion you have determined.\n",
    "###\n",
    "A = NP.array([[3,-2],[-2,5]])\n",
    "print (A)\n",
    "e_vals,e_vecs = LA.eig(A)\n",
    "print (\"Eigenvalues\")\n",
    "print(e_vals)\n",
    "print (\"Eigenvectors\")\n",
    "print(e_vecs)"
   ]
  },
  {
   "cell_type": "markdown",
   "metadata": {},
   "source": [
    "## Beyond 2 x 2 problems\n",
    "\n",
    "Beyond $2 \\times 2$ matrices it becomes timeconsuming and tedious to calculate eigenvalues and eigenvectors. However, the techniques for calculating them using computers are well established using 'Linear Algebra' packages. The code above using python is one example but you can also find libraries for e.g. fortran, C/C++, for computational software packages such as Matlab, Scilab and symbolic algebra packages such as Maple, Mathematica (Wolfram Alpha) and macsyma. Here we give an example of a more complex problem using python.\n",
    "\n",
    "A note of caution. These programmes do not always return what you expect. I have found this an issue especially for the case where we have degeberate eigenvalues (two eigenvalues that have the same value) and their associated eigenvectors.\n",
    "\n",
    "Let's extend our code to image a coupled spring system consistenting of 11 equal masses $m$ and 12 springs, all with spring constant $k$. Demonstrate that you can obtain the equation\n",
    "\n",
    "\\begin{equation}\n",
    "\\left [ \\begin{array}{c} \\ddot x_1 \\\\ \\ddot x_2 \\\\ \\ddot x_3 \\\\ \\ddot x_4 \\\\ \\ddot x_5 \\\\ \\ddot x_6 \n",
    "\\\\ \\ddot x_7 \\\\ \\ddot x_8 \\\\ \\ddot x_9 \\\\ \\ddot x_{10} \\\\ \\ddot x_{11} \\end{array} \\right ] =\\frac{k}{m} \\left [ \\begin{array}{ccccccccccc} \n",
    "2 & -1 & 0 & 0 & 0 & 0 & 0 & 0 & 0& 0 & 0\\\\\n",
    "-1 & 2 & -1 & 0 & 0 & 0 & 0 & 0 & 0& 0 & 0\\\\\n",
    "0 & -1  & -2  & -1 & 0 & 0 & 0 & 0 & 0& 0 & 0\\\\\n",
    "0 & 0 & -1 & 2 & -1 & 0 & 0 & 0 & 0& 0 & 0\\\\\n",
    "0 & 0 & 0 & -1 & 2 & -1 & 0 & 0 & 0& 0 & 0\\\\\n",
    "0 & 0 & 0 & 0 & -1  & 2 & -1 & 0 & 0& 0 & 0\\\\\n",
    "0 & 0 & 0 & 0 & 0 & -1 & 2 & -1 & 0& 0 & 0\\\\\n",
    "0 & 0 & 0 & 0 & 0 & 0 & -1 & 2 & -1& 0 & 0\\\\\n",
    "0 & 0 & 0 & 0 & 0 & 0 & 0 & -1 & 2& -1 & 0\\\\\n",
    "0 & 0 & 0 & 0 & 0 & 0 & 0 & 0 & -1 & 2 & -1\\\\\n",
    "0 & 0 & 0 & 0 & 0 & 0 & 0 & 0 & 0 & -1 & 2 & -1\\\\\n",
    "\\end{array} \\right ]\n",
    "\\left [ \\begin{array}{c} x_1 \\\\ x_2 \\\\ x_3 \\\\ x_4 \\\\ x_5 \\\\ x_6 \n",
    "\\\\ x_7 \\\\ x_8 \\\\  x_9 \\\\ x_{10} \\\\ x_{11} \\end{array} \\right ]\n",
    "\\end{equation} and use the code below to find the eigenvalues and eigenvectors.\n",
    "\n",
    "You can also find the eigenvectors for this equation analytically (you can find an example in the set problems). It is an example of a sparse matrix (contains lots of zeros). Note that the eigenvectors are returned the columns in an $11 \\times 11$ matrix. You should extract these and plot them out ($x_i$ vs $i$). You may like to use this code and decrease or increase $N$ to explore how the solutions change.  \n",
    "\n"
   ]
  },
  {
   "cell_type": "code",
   "execution_count": 3,
   "metadata": {},
   "outputs": [
    {
     "name": "stdout",
     "output_type": "stream",
     "text": [
      "[[ 2 -1  0  0  0  0  0  0  0  0  0]\n",
      " [-1  2 -1  0  0  0  0  0  0  0  0]\n",
      " [ 0 -1  2 -1  0  0  0  0  0  0  0]\n",
      " [ 0  0 -1  2 -1  0  0  0  0  0  0]\n",
      " [ 0  0  0 -1  2 -1  0  0  0  0  0]\n",
      " [ 0  0  0  0 -1  2 -1  0  0  0  0]\n",
      " [ 0  0  0  0  0 -1  2 -1  0  0  0]\n",
      " [ 0  0  0  0  0  0 -1  2 -1  0  0]\n",
      " [ 0  0  0  0  0  0  0 -1  2 -1  0]\n",
      " [ 0  0  0  0  0  0  0  0 -1  2 -1]\n",
      " [ 0  0  0  0  0  0  0  0  0 -1  2]]\n",
      "Eigenvalues\n",
      "[3.93185165+0.j 3.73205081+0.j 3.41421356+0.j 3.        +0.j\n",
      " 2.51763809+0.j 2.        +0.j 1.48236191+0.j 0.06814835+0.j\n",
      " 0.26794919+0.j 0.58578644+0.j 1.        +0.j]\n",
      "Eigenvectors\n",
      "[[-1.05662433e-01 -2.04124145e-01 -2.88675135e-01  3.53553391e-01\n",
      "   3.94337567e-01 -4.08248290e-01 -3.94337567e-01  1.05662433e-01\n",
      "  -2.04124145e-01 -2.88675135e-01 -3.53553391e-01]\n",
      " [ 2.04124145e-01  3.53553391e-01  4.08248290e-01 -3.53553391e-01\n",
      "  -2.04124145e-01  6.80885866e-16 -2.04124145e-01  2.04124145e-01\n",
      "  -3.53553391e-01 -4.08248290e-01 -3.53553391e-01]\n",
      " [-2.88675135e-01 -4.08248290e-01 -2.88675135e-01  2.27812574e-16\n",
      "  -2.88675135e-01  4.08248290e-01  2.88675135e-01  2.88675135e-01\n",
      "  -4.08248290e-01 -2.88675135e-01 -1.16264558e-16]\n",
      " [ 3.53553391e-01  3.53553391e-01 -1.15842804e-15  3.53553391e-01\n",
      "   3.53553391e-01 -7.62137297e-16  3.53553391e-01  3.53553391e-01\n",
      "  -3.53553391e-01  3.59976775e-16  3.53553391e-01]\n",
      " [-3.94337567e-01 -2.04124145e-01  2.88675135e-01 -3.53553391e-01\n",
      "   1.05662433e-01 -4.08248290e-01 -1.05662433e-01  3.94337567e-01\n",
      "  -2.04124145e-01  2.88675135e-01  3.53553391e-01]\n",
      " [ 4.08248290e-01  3.47517159e-15 -4.08248290e-01 -8.76752927e-16\n",
      "  -4.08248290e-01  1.20152971e-15 -4.08248290e-01  4.08248290e-01\n",
      "  -1.68123499e-16  4.08248290e-01  3.71041776e-16]\n",
      " [-3.94337567e-01  2.04124145e-01  2.88675135e-01  3.53553391e-01\n",
      "   1.05662433e-01  4.08248290e-01 -1.05662433e-01  3.94337567e-01\n",
      "   2.04124145e-01  2.88675135e-01 -3.53553391e-01]\n",
      " [ 3.53553391e-01 -3.53553391e-01 -6.96321835e-16 -3.53553391e-01\n",
      "   3.53553391e-01 -6.41082192e-16  3.53553391e-01  3.53553391e-01\n",
      "   3.53553391e-01  2.95845970e-16 -3.53553391e-01]\n",
      " [-2.88675135e-01  4.08248290e-01 -2.88675135e-01 -1.65782792e-15\n",
      "  -2.88675135e-01 -4.08248290e-01  2.88675135e-01  2.88675135e-01\n",
      "   4.08248290e-01 -2.88675135e-01 -5.66917868e-16]\n",
      " [ 2.04124145e-01 -3.53553391e-01  4.08248290e-01  3.53553391e-01\n",
      "  -2.04124145e-01  3.01619793e-16 -2.04124145e-01  2.04124145e-01\n",
      "   3.53553391e-01 -4.08248290e-01  3.53553391e-01]\n",
      " [-1.05662433e-01  2.04124145e-01 -2.88675135e-01 -3.53553391e-01\n",
      "   3.94337567e-01  4.08248290e-01 -3.94337567e-01  1.05662433e-01\n",
      "   2.04124145e-01 -2.88675135e-01  3.53553391e-01]]\n"
     ]
    }
   ],
   "source": [
    "### The first part imports the linear algebra library so it recognises the function needed to calculate the eigenvalues and vectors\n",
    "import numpy as NP\n",
    "from scipy import linalg as LA\n",
    "A = NP.array([\n",
    "              [2,-1,0,0,0,0,0,0,0,0,0],\n",
    "              [-1,2,-1,0,0,0,0,0,0,0,0],\n",
    "              [0,-1,2,-1,0,0,0,0,0,0,0],\n",
    "              [0,0,-1,2,-1,0,0,0,0,0,0],\n",
    "              [0,0,0,-1,2,-1,0,0,0,0,0],\n",
    "              [0,0,0,0,-1,2,-1,0,0,0,0],\n",
    "              [0,0,0,0,0,-1,2,-1,0,0,0],\n",
    "              [0,0,0,0,0,0,-1,2,-1,0,0],\n",
    "              [0,0,0,0,0,0,0,-1,2,-1,0],\n",
    "              [0,0,0,0,0,0,0,0,-1,2,-1],\n",
    "              [0,0,0,0,0,0,0,0,0,-1,2],\n",
    "             ])\n",
    "print (A)\n",
    "e_vals,e_vecs = LA.eig(A)\n",
    "print (\"Eigenvalues\")\n",
    "print(e_vals)\n",
    "print (\"Eigenvectors\")\n",
    "print(e_vecs)"
   ]
  },
  {
   "cell_type": "markdown",
   "metadata": {},
   "source": [
    "##  What happens when we remove the walls?\n",
    "\n",
    "In the previous examples the masses were attached to fixed walls by springs (Dirichlet boundary conditions). Modify the code above (reproduced below) to consider the case when the masses at the ends are not connected to a wall but are allowed to float freely. To do this you need to redetermine the equations of motion for the two masses at the end of the chain and modify the first and last rows of the matrix accordingly. Again plot out the eigenvectors. One of the eigenvectors is distinct from the others. Can you explain why it has this form?"
   ]
  },
  {
   "cell_type": "code",
   "execution_count": 4,
   "metadata": {},
   "outputs": [
    {
     "name": "stdout",
     "output_type": "stream",
     "text": [
      "[[ 2 -1  0  0  0  0  0  0  0  0  0]\n",
      " [-1  2 -1  0  0  0  0  0  0  0  0]\n",
      " [ 0 -1  2 -1  0  0  0  0  0  0  0]\n",
      " [ 0  0 -1  2 -1  0  0  0  0  0  0]\n",
      " [ 0  0  0 -1  2 -1  0  0  0  0  0]\n",
      " [ 0  0  0  0 -1  2 -1  0  0  0  0]\n",
      " [ 0  0  0  0  0 -1  2 -1  0  0  0]\n",
      " [ 0  0  0  0  0  0 -1  2 -1  0  0]\n",
      " [ 0  0  0  0  0  0  0 -1  2 -1  0]\n",
      " [ 0  0  0  0  0  0  0  0 -1  2 -1]\n",
      " [ 0  0  0  0  0  0  0  0  0 -1  2]]\n",
      "Eigenvalues\n",
      "[3.93185165+0.j 3.73205081+0.j 3.41421356+0.j 3.        +0.j\n",
      " 2.51763809+0.j 2.        +0.j 1.48236191+0.j 0.06814835+0.j\n",
      " 0.26794919+0.j 0.58578644+0.j 1.        +0.j]\n",
      "Eigenvectors\n",
      "[[-1.05662433e-01 -2.04124145e-01 -2.88675135e-01  3.53553391e-01\n",
      "   3.94337567e-01 -4.08248290e-01 -3.94337567e-01  1.05662433e-01\n",
      "  -2.04124145e-01 -2.88675135e-01 -3.53553391e-01]\n",
      " [ 2.04124145e-01  3.53553391e-01  4.08248290e-01 -3.53553391e-01\n",
      "  -2.04124145e-01  6.80885866e-16 -2.04124145e-01  2.04124145e-01\n",
      "  -3.53553391e-01 -4.08248290e-01 -3.53553391e-01]\n",
      " [-2.88675135e-01 -4.08248290e-01 -2.88675135e-01  2.27812574e-16\n",
      "  -2.88675135e-01  4.08248290e-01  2.88675135e-01  2.88675135e-01\n",
      "  -4.08248290e-01 -2.88675135e-01 -1.16264558e-16]\n",
      " [ 3.53553391e-01  3.53553391e-01 -1.15842804e-15  3.53553391e-01\n",
      "   3.53553391e-01 -7.62137297e-16  3.53553391e-01  3.53553391e-01\n",
      "  -3.53553391e-01  3.59976775e-16  3.53553391e-01]\n",
      " [-3.94337567e-01 -2.04124145e-01  2.88675135e-01 -3.53553391e-01\n",
      "   1.05662433e-01 -4.08248290e-01 -1.05662433e-01  3.94337567e-01\n",
      "  -2.04124145e-01  2.88675135e-01  3.53553391e-01]\n",
      " [ 4.08248290e-01  3.47517159e-15 -4.08248290e-01 -8.76752927e-16\n",
      "  -4.08248290e-01  1.20152971e-15 -4.08248290e-01  4.08248290e-01\n",
      "  -1.68123499e-16  4.08248290e-01  3.71041776e-16]\n",
      " [-3.94337567e-01  2.04124145e-01  2.88675135e-01  3.53553391e-01\n",
      "   1.05662433e-01  4.08248290e-01 -1.05662433e-01  3.94337567e-01\n",
      "   2.04124145e-01  2.88675135e-01 -3.53553391e-01]\n",
      " [ 3.53553391e-01 -3.53553391e-01 -6.96321835e-16 -3.53553391e-01\n",
      "   3.53553391e-01 -6.41082192e-16  3.53553391e-01  3.53553391e-01\n",
      "   3.53553391e-01  2.95845970e-16 -3.53553391e-01]\n",
      " [-2.88675135e-01  4.08248290e-01 -2.88675135e-01 -1.65782792e-15\n",
      "  -2.88675135e-01 -4.08248290e-01  2.88675135e-01  2.88675135e-01\n",
      "   4.08248290e-01 -2.88675135e-01 -5.66917868e-16]\n",
      " [ 2.04124145e-01 -3.53553391e-01  4.08248290e-01  3.53553391e-01\n",
      "  -2.04124145e-01  3.01619793e-16 -2.04124145e-01  2.04124145e-01\n",
      "   3.53553391e-01 -4.08248290e-01  3.53553391e-01]\n",
      " [-1.05662433e-01  2.04124145e-01 -2.88675135e-01 -3.53553391e-01\n",
      "   3.94337567e-01  4.08248290e-01 -3.94337567e-01  1.05662433e-01\n",
      "   2.04124145e-01 -2.88675135e-01  3.53553391e-01]]\n"
     ]
    }
   ],
   "source": [
    "### The first part imports the linear algebra library so it recognises the function needed to calculate the eigenvalues and vectors\n",
    "import numpy as NP\n",
    "from scipy import linalg as LA\n",
    "A = NP.array([\n",
    "              [2,-1,0,0,0,0,0,0,0,0,0],\n",
    "              [-1,2,-1,0,0,0,0,0,0,0,0],\n",
    "              [0,-1,2,-1,0,0,0,0,0,0,0],\n",
    "              [0,0,-1,2,-1,0,0,0,0,0,0],\n",
    "              [0,0,0,-1,2,-1,0,0,0,0,0],\n",
    "              [0,0,0,0,-1,2,-1,0,0,0,0],\n",
    "              [0,0,0,0,0,-1,2,-1,0,0,0],\n",
    "              [0,0,0,0,0,0,-1,2,-1,0,0],\n",
    "              [0,0,0,0,0,0,0,-1,2,-1,0],\n",
    "              [0,0,0,0,0,0,0,0,-1,2,-1],\n",
    "              [0,0,0,0,0,0,0,0,0,-1,2],\n",
    "             ])\n",
    "print (A)\n",
    "e_vals,e_vecs = LA.eig(A)\n",
    "print (\"Eigenvalues\")\n",
    "print(e_vals)\n",
    "print (\"Eigenvectors\")\n",
    "print(e_vecs)"
   ]
  },
  {
   "cell_type": "markdown",
   "metadata": {},
   "source": [
    "## Conclusion for this notebook\n",
    "\n",
    "In this notebook we have explored the two mass coupled oscillator system covered in lectures and extended the solution to cases where the spring constants are unequal. The case where the masses are different is covered in a different notebook. We have shown how we can treat this as an eigenvalue/eigenvector problem and shown how the soluitions can be calculated using python. We have extended the analysis to chains with $N>>2$ and shown how the solutions may still be calculated with simple function calls in python. "
   ]
  }
 ],
 "metadata": {
  "kernelspec": {
   "display_name": "Python 3",
   "language": "python",
   "name": "python3"
  },
  "language_info": {
   "codemirror_mode": {
    "name": "ipython",
    "version": 3
   },
   "file_extension": ".py",
   "mimetype": "text/x-python",
   "name": "python",
   "nbconvert_exporter": "python",
   "pygments_lexer": "ipython3",
   "version": "3.6.5"
  }
 },
 "nbformat": 4,
 "nbformat_minor": 2
}
