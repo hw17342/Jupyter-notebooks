{
 "cells": [
  {
   "cell_type": "markdown",
   "metadata": {},
   "source": [
    "# Normal modes, coordinates, eigenvalues and eigenvectors\n",
    "\n",
    "In the previous sheets we have seen how we can apply the mathematical technqiue of finding eigenvalues and eigenvectors to solve coupled oscilator problems. A key point to remember is we needed to find the eigenvalues and eigenvectors of a real and symmetric matrix. This was easy in the 'equal mass' case but needed a little more care for the 'unequal mass' case. \n",
    "\n",
    "The normal frequencies of the oscillators are determined from the eigenvalues. The relative motion of the the masses in the system were found from the eigenvectors and these are what we needed to find the motion of the individual masses.\n",
    "\n",
    "In the lectures we introduced the idea of normal (or generalised coordinates). In this notebook we will elaborate on what we mean by normal coordinates and why they may be useful.\n",
    "\n"
   ]
  },
  {
   "cell_type": "markdown",
   "metadata": {},
   "source": [
    "## The eigenvector matrix\n",
    "\n",
    "There is a general result from Linear Algebra that says,\n",
    "\n",
    "\"For any matrix $\\bf{A}$ that has well defined eigenvalues and eigenvectors we can form a matrix $\\bf{P}$ from the eigenvectors as columns.\"\n",
    "\n",
    "If you inspect the python code in the previous examples you can see that this is indeed the way in which the eigenvectors are returned from the python \"LA.eig(A)\" library call. A further result from Linear Algebra is,\n",
    "\n",
    "\\begin{equation}\n",
    "\\bf{P}^{-1}\\bf{A}\\bf{P}= \\bf{D}\n",
    "\\end{equation}\n",
    "\n",
    "The example of the two mass system was demonstrated in lectures so let's look at the more complicated example of the Carbon Dioxide molecule covered in previous sheet. We had\n",
    "\\begin{equation}\n",
    "\\omega^2 \\left [ \\begin{array}{c} C_{O1}' \\\\ C_C' \\\\ C_{O2}' \\end{array} \\right ]=\n",
    "k \\left [ \\begin{array}{ccc} \\frac{1}{m_{O1}} & -\\frac{1}{\\sqrt{m_{O1}m_C}} & 0 \\\\\n",
    "                            -\\frac{1}{\\sqrt{m_{O1}m_C}} & \\frac{2}{m_C} & -\\frac{1}{\\sqrt{m_C m_{O2}}} \\\\\n",
    "                             0 & -\\frac{1}{\\sqrt{m_C m_{O2}}} & \\frac{1}{m_{O2}}  \\end{array} \\right ]\n",
    "\\left [ \\begin{array}{c} C_{O1}' \\\\ C_C' \\\\ C_{O2}' \\end{array} \\right ]\n",
    "\\end{equation}\n",
    "\n",
    "\n",
    "an we took $k=1$ and let $m_C=12$ and $m_{O1} = m_{O2} = 16$. The eigenvalues and vectors for these values were generated using the python code below.\n"
   ]
  },
  {
   "cell_type": "code",
   "execution_count": 1,
   "metadata": {},
   "outputs": [
    {
     "name": "stdout",
     "output_type": "stream",
     "text": [
      "[[ 0.0625     -0.07216878  0.        ]\n",
      " [-0.07216878  0.16666667 -0.07216878]\n",
      " [ 0.         -0.07216878  0.0625    ]]\n",
      "Eigenvalues\n",
      "[ 2.29166667e-01+0.j  6.25000000e-02+0.j -1.29611271e-17+0.j]\n",
      "Eigenvectors\n",
      "[[-3.69274473e-01 -7.07106781e-01  6.03022689e-01]\n",
      " [ 8.52802865e-01 -1.07262183e-16  5.22232968e-01]\n",
      " [-3.69274473e-01  7.07106781e-01  6.03022689e-01]]\n"
     ]
    }
   ],
   "source": [
    "### The first part imports the linear algebra library so it recognises the function needed to calculate the eigenvalues and vectors\n",
    "import numpy as NP\n",
    "from scipy import linalg as LA\n",
    "m_O1=16\n",
    "m_C=12\n",
    "m_O2=16\n",
    "A = NP.array([[1/m_O1,-1/NP.sqrt(m_O1*m_C),0],\n",
    "              [-1/NP.sqrt(m_O1*m_C),2/m_C,-1/NP.sqrt(m_O2*m_C)],\n",
    "              [0, -1/NP.sqrt(m_O2*m_C), 1/m_O2]\n",
    "             ])\n",
    "print (A)\n",
    "e_vals,e_vecs = LA.eig(A)\n",
    "print (\"Eigenvalues\")\n",
    "print(e_vals)\n",
    "print (\"Eigenvectors\")\n",
    "print(e_vecs)"
   ]
  },
  {
   "cell_type": "markdown",
   "metadata": {},
   "source": [
    "We will now modify the python code above to find the diagonal matrix. See if you can follow the code."
   ]
  },
  {
   "cell_type": "code",
   "execution_count": 2,
   "metadata": {},
   "outputs": [
    {
     "name": "stdout",
     "output_type": "stream",
     "text": [
      "A =  [[ 0.0625     -0.07216878  0.        ]\n",
      " [-0.07216878  0.16666667 -0.07216878]\n",
      " [ 0.         -0.07216878  0.0625    ]]\n",
      " \n",
      "eigenvalues are  [ 2.29166667e-01+0.j  6.25000000e-02+0.j -1.29611271e-17+0.j]\n",
      " \n",
      "P    = [[-3.69274473e-01 -7.07106781e-01  6.03022689e-01]\n",
      " [ 8.52802865e-01 -1.07262183e-16  5.22232968e-01]\n",
      " [-3.69274473e-01  7.07106781e-01  6.03022689e-01]]\n",
      " \n",
      "P^-1 =  [[-3.69274473e-01  8.52802865e-01 -3.69274473e-01]\n",
      " [-7.07106781e-01  1.19523567e-17  7.07106781e-01]\n",
      " [ 6.03022689e-01  5.22232968e-01  6.03022689e-01]]\n",
      " \n",
      "D  =   [[ 2.29166667e-01 -1.69218054e-17  5.31593308e-17]\n",
      " [ 9.12128048e-18  6.25000000e-02  9.81307787e-18]\n",
      " [ 3.34631044e-17 -2.07283303e-18 -1.34741062e-17]]\n"
     ]
    }
   ],
   "source": [
    "### The first part imports the linear algebra library so it recognises the function needed to calculate the eigenvalues and vectors\n",
    "import numpy as NP\n",
    "from scipy import linalg as LA\n",
    "m_O1=16\n",
    "m_C=12\n",
    "m_O2=16\n",
    "A = NP.array([[1/m_O1,-1/NP.sqrt(m_O1*m_C),0],\n",
    "              [-1/NP.sqrt(m_O1*m_C),2/m_C,-1/NP.sqrt(m_O2*m_C)],\n",
    "              [0, -1/NP.sqrt(m_O2*m_C), 1/m_O2]\n",
    "             ])\n",
    "print (\"A = \",A)\n",
    "e_vals,P = LA.eig(A)\n",
    "invP = LA.inv(P)\n",
    "print (\" \")\n",
    "print (\"eigenvalues are \", e_vals)\n",
    "print(\" \")\n",
    "print(\"P    =\", P)\n",
    "print(\" \")\n",
    "print (\"P^-1 = \",invP)\n",
    "print (\" \")\n",
    "D=NP.matmul(invP,NP.matmul(A,P))\n",
    "print (\"D  =  \",D)\n",
    "       "
   ]
  },
  {
   "cell_type": "markdown",
   "metadata": {},
   "source": [
    "You should see that the $\\bf{D}$ matrix is diagonal (within the numerical errors) and the diagonal elements of $\\bf{D}$ are the eigenvalues of the matrix $\\bf{A}$ that were calculated in the 'LA.eig' function. In the case of our real and symmetric matrices a result from linear algebra says $\\bf{A}$ and $\\bf{D}$ are $\\textit{similar}$ matrices such that, \n",
    "\n",
    "\\begin{equation}\n",
    "\\textbf{A}\\vec{x}-\\lambda \\vec{x}  = 0 \\space\\space\\space\\space ....(1)     \n",
    "\\end{equation}\n",
    "and\n",
    "\\begin{equation}\n",
    "\\textbf{D}\\vec{q}-\\lambda \\vec{q} = 0 \\space\\space\\space\\space ....(2)\n",
    "\\end{equation} \n",
    "\n",
    "and that they share the common eigenvalues $\\lambda_i$. As $\\textbf{D}$ is diagonal we write,\n",
    "\n",
    "\\begin{equation}\n",
    "\\left [ \\begin{array}{cccc} D_1 & 0 & 0 & ... \\\\\n",
    "                    0 & D_2 & 0 & ... \\\\\n",
    "                    0 & 0 & D_3 & ... \\\\\n",
    "                    ... & ... & ... & ... \\end{array} \\right ]\n",
    "                    \\left [ \\begin{array}{c} q_1 \\\\ q_2 \\\\ q_3 \\\\ ... \\end{array} \\right ] =\n",
    "\\left [ \\begin{array}{cccc} \\lambda_1 & 0 & 0 & ... \\\\\n",
    "                    0 & \\lambda_2 & 0 & ... \\\\\n",
    "                    0 & 0 & \\lambda_3 & ... \\\\\n",
    "                    ... & ... & ... & ... \\end{array} \\right ]\n",
    "                    \\left [ \\begin{array}{c} q_1 \\\\ q_2 \\\\ q_3 \\\\ ... \\end{array} \\right ]                   \n",
    "\\end{equation}\n",
    "\n",
    "that gives uncoupled equations $D_i q_i = \\lambda_i q_i$. Each of these equations corresponds to a normal mode of the system and we note that they act as independent oscillators in $\\vec{q}$ space. In otherwords if the system is oscillating in the coordinate $q_i$ then no energy will be transfered to the other modes (as the equations are uncoupled). Another way of saying this is we have transformed the problem from being defined in a vector space $\\vec{x}$ to a vector space $\\vec{q}$. You may ask why this might be interesting. It is possible to consider both the kinetic and potential energy in the $\\vec{q}$ coordinates, for example the kinetic energy of each mode may be written as $\\frac{1}{2}M_i q_i^2$ where $M_i$ corresponds to a 'mass' in $\\vec{q}$-space. It is easy to see how the energy might be partitioned in a system when we use these coordinates. Expressing the kinetic and potential energy in normal coordinates is particular useful if we wish to formulate a problem using the Lagrangian approach to mechanics. Unfortunately, we cannot cover Lagrangian mechanics and generalised (normal) coordinates here but the method will appear in more advanced courses.\n",
    "\n",
    "Given the utility of the normal coordinates we now wish to see how we can transform between the two vector spaces. We will do some simple matrix manipulation. From (2) we have\n",
    "\n",
    "\\begin{equation}\n",
    "\\textbf{D}\\vec{q}=\\lambda \\vec{q}\\\\\n",
    "\\textbf{P}^{-1}\\textbf{A}\\textbf{P}\\vec{q}=\\lambda \\vec{q}\n",
    "\\end{equation}\n",
    "\n",
    "Multiplying the LHS and RHS by $\\textbf{P}$ we find\n",
    "\n",
    "\\begin{equation}\n",
    "\\textbf{A}\\textbf{P}\\vec{q}=\\textbf{P}\\lambda \\vec{q}\n",
    "\\end{equation}\n",
    "\n",
    "or re-arranging\n",
    "\n",
    "\\begin{equation}\n",
    "\\textbf{A} ( \\textbf{P} \\vec{q} ) = \\lambda ( \\textbf{P} \\vec{q})\n",
    "\\end{equation}\n",
    "\n",
    "If we compare this to equation (1) we find the result\n",
    "\n",
    "\\begin{equation}\n",
    "\\vec{x}=\\textbf{P} \\vec{q}   \\space\\space\\space\\space ... (3)\n",
    "\\end{equation}\n",
    "\n",
    "or\n",
    "\n",
    "\\begin{equation}\n",
    "\\textbf{P}^{-1}.\\vec{x}=\\vec{q}   \\space\\space\\space\\space ... (4)\n",
    "\\end{equation} \n",
    "\n",
    "that is the result we quoted in lectures. It is important to remember here that we have sued some standard results from Linear Algebra theory that is valid for the real and symmetric matrices we have been using but are not generally true for all matrices.\n",
    "\n",
    "Let's take a look at the results for our Carbon Dioxide molecule calculated above. For the masses in the example we find the result \n",
    "\\begin{equation}\n",
    "\\textbf{P}   = \\left [ \\begin{array}{ccc} -0.369 & -0.707 & 0.603 \\\\\n",
    "  0.853 & 0 &   0.522 \\\\\n",
    " -0.369 &  0.707 &  0.603 \\end{array} \\right]\n",
    "\\end{equation}\n",
    "and \n",
    "\\begin{equation}\n",
    "\\textbf{P}^{-1} = \\left [ \\begin{array}{ccc}\n",
    "-0.369  & 0.853 & -0.369 \\\\\n",
    " -0.707 &  0 &  0.707 \\\\\n",
    "  0.603 &  0.522 &  0.603\n",
    " \\end{array} \\right]\n",
    "\\end{equation}\n",
    "\n",
    "As you can see from this example $\\textbf{P}^{-1}$ is just the transpose of $\\textbf{P}$, $\\textbf{P}^T$ so the relationship between the eigenvectors and the normal coordinates is straight forward to determine."
   ]
  },
  {
   "cell_type": "code",
   "execution_count": null,
   "metadata": {},
   "outputs": [],
   "source": []
  }
 ],
 "metadata": {
  "kernelspec": {
   "display_name": "Python 3",
   "language": "python",
   "name": "python3"
  },
  "language_info": {
   "codemirror_mode": {
    "name": "ipython",
    "version": 3
   },
   "file_extension": ".py",
   "mimetype": "text/x-python",
   "name": "python",
   "nbconvert_exporter": "python",
   "pygments_lexer": "ipython3",
   "version": "3.6.5"
  }
 },
 "nbformat": 4,
 "nbformat_minor": 2
}
