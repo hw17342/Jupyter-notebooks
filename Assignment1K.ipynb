{
 "cells": [
  {
   "cell_type": "markdown",
   "metadata": {},
   "source": [
    "# Assignment 1 - Linear Algebra\n",
    "\n",
    "\n",
    "In this exercise, you will investigate various aspects of linear algebra.\n",
    "\n",
    "* Use appropriate functions\n",
    "* Comment your code.\n",
    "* Use numpy/scipy libraries where appropriate, except where explicitly stated.\n",
    "\n",
    "For each question where you are asked to write some code, you will also be asked to _briefly_ describe what you have done in a text cell below.  \n"
   ]
  },
  {
   "cell_type": "markdown",
   "metadata": {},
   "source": [
    "## Q1\n",
    "\n",
    "In this part you will need to use the matrix inversion code based on Cramer's rule, posted in the matrix-inversion notebook on Blackboard. Cut and paste the necessary functions into the cell below."
   ]
  },
  {
   "cell_type": "code",
   "execution_count": 1,
   "metadata": {
    "nbgrader": {
     "grade": true,
     "grade_id": "cell-7e25969def438bd8",
     "locked": false,
     "points": 1,
     "schema_version": 1,
     "solution": true
    }
   },
   "outputs": [],
   "source": [
    "import numpy as np\n",
    "import scipy.linalg as lin\n",
    "import math\n",
    "from timeit import Timer\n",
    "import functools as func\n",
    "import matplotlib.pyplot as plt\n",
    "\n",
    "def det2x2(m):\n",
    "    if m.shape[0] != 2 or m.shape[1] != 2:\n",
    "        raise Exception(\"Non2x2Matrix\")\n",
    "    \n",
    "    return ( m[0][0]*m[1][1] ) - ( m[0][1]*m[1][0] )\n",
    "\n",
    "def inverse2x2(m):\n",
    "    if (m.shape[0] != 2 or m.shape[1] != 2):\n",
    "        raise Exception(\"Non2x2Matrix\")\n",
    "\n",
    "    det = det2x2(m)\n",
    "    tmp = np.empty([2,2])\n",
    "    tmp[0][0] = m[1][1] / det\n",
    "    tmp[0][1] = -1 * m[0][1] / det\n",
    "    tmp[1][0] = -1 * m[1][0] / det\n",
    "    tmp[1][1] = m[0][0] / det\n",
    "    return tmp\n",
    "\n",
    "\n",
    "def submatrix(m,i,j):\n",
    "    if not (m.shape[0] == m.shape[1]):\n",
    "        raise Exception(\"NonSquareMatrix\")\n",
    "    \n",
    "    # create a new matrix\n",
    "    n = m.shape[0]-1\n",
    "    tmp = np.empty([n,n])\n",
    "    \n",
    "    # get the indices of the matrix that will be used\n",
    "    tmpi = list(range(m.shape[0]))\n",
    "    del tmpi[i]\n",
    "    tmpj = list(range(m.shape[1]))\n",
    "    del tmpj[j]\n",
    "    \n",
    "    for ii in range(n):\n",
    "        for jj in range(n):\n",
    "            tmp[ii][jj] = m[tmpi[ii]][tmpj[jj]]\n",
    "\n",
    "    return tmp\n",
    "\n",
    "def det(m):\n",
    "    if not (m.shape[0] == m.shape[1]):\n",
    "        raise Exception(\"NonSquareMatrix\")\n",
    "    \n",
    "    if (m.shape[0]==2):\n",
    "        return det2x2(m)\n",
    "        \n",
    "    else:\n",
    "        tmp = 0\n",
    "        # use 0-th row to calculate determinant\n",
    "        for j in range(m.shape[0]):\n",
    "            tmp = tmp + (math.pow(-1,j) * m[0][j] * det(submatrix(m,0,j)))\n",
    "    \n",
    "    return tmp\n",
    "\n",
    "def adjugate(m):\n",
    "    if not (m.shape[0] == m.shape[1]):\n",
    "        raise Exception(\"NonSquareMatrix\")\n",
    "    \n",
    "    tmp = np.empty(m.shape)\n",
    "    \n",
    "    for i in range(m.shape[0]):\n",
    "        for j in range(m.shape[1]):\n",
    "            # note the order of indices below !\n",
    "            tmp[j][i] = (math.pow(-1,i+j) * det(submatrix(m,i,j)))\n",
    "    return tmp\n",
    "\n",
    "def inverse(m):\n",
    "    if not (m.shape[0] == m.shape[1]):\n",
    "        raise Exception(\"NonSquareMatrix\")\n",
    "    \n",
    "    if m.shape[0]==2:\n",
    "        return inverse2x2(m)\n",
    "    \n",
    "    d = det(m)        \n",
    "    c = adjugate(m)\n",
    "    return np.true_divide(c,d)"
   ]
  },
  {
   "cell_type": "markdown",
   "metadata": {},
   "source": [
    "## 1a)\n",
    "Verify that the code produces the correct result for a single _randomly_ generated 4x4 matrix. Make sure you account for possible rounding error due to limited floating point precision. "
   ]
  },
  {
   "cell_type": "code",
   "execution_count": 2,
   "metadata": {
    "nbgrader": {
     "grade": true,
     "grade_id": "cell-fea08fd2200067f6",
     "locked": false,
     "points": 2,
     "schema_version": 1,
     "solution": true
    }
   },
   "outputs": [],
   "source": [
    "#generate random 4x4 matrix (elements have values between 0 and 1)\n",
    "rand_matrix = np.random.rand(4,4)\n",
    "assert(np.allclose(inverse(rand_matrix), lin.inv(rand_matrix), atol=1e-19))"
   ]
  },
  {
   "cell_type": "markdown",
   "metadata": {},
   "source": [
    "## 1b)\n",
    "Plot the cpu-time taken to solve a randomly generated simultaneous equation as a function of the matrix order N. Your plot should contain 3 lines, for each of the following methods :\n",
    "1. the matrix inversion function above based on Cramer's rule\n",
    "2. LU decomposition using scipy\n",
    "3. SVD decomposition using scipy\n",
    "\n",
    "Note that you will need to generate both a random NxN matrix, and a random set of solutions. You will need to think about how you're going to handle errors (eg. if you generate a random matrix that is singular). You will need to look up the LU and SVD decomposition routines in the scipy reference manual (https://docs.scipy.org/doc/scipy/reference/), and make sure that your treatment of each routine is \"fair\", i.e. performs the same calculation.\n",
    "\n",
    "You may want to read up on these methods in Numerical Recipes. The 3rd edition is available free online at http://numerical.recipes/oldverswitcher.html. LU decomposition is on p48 and SVD decomposition is on p65 in this edition.\n",
    "\n",
    "Finally, write a paragraph describing your code in the text cell below : how you designed the code, what choices you had to make, and why - in particular how you deal with the issues raised above."
   ]
  },
  {
   "cell_type": "code",
   "execution_count": 3,
   "metadata": {
    "nbgrader": {
     "grade": true,
     "grade_id": "cell-1bd4e80009bc8e57",
     "locked": false,
     "points": 0,
     "schema_version": 1,
     "solution": true
    }
   },
   "outputs": [
    {
     "data": {
      "image/png": "[encoded data removed]",
      "text/plain": [
       "<Figure size 432x288 with 1 Axes>"
      ]
     },
     "metadata": {},
     "output_type": "display_data"
    },
    {
     "data": {
      "image/png": "[encoded data removed]",
      "text/plain": [
       "<Figure size 432x288 with 1 Axes>"
      ]
     },
     "metadata": {},
     "output_type": "display_data"
    }
   ],
   "source": [
    "#solve linear simultaneous equations using LU decomposition\n",
    "def luSolve(m, sol):\n",
    "    \n",
    "    lu, piv = lin.lu_factor(m,overwrite_a=True)\n",
    "    x = lin.lu_solve((lu, piv),sol)\n",
    "    return x\n",
    "    \n",
    "    \n",
    "#solve system using SVD\n",
    "def svdSolve(m, sol):\n",
    "    \n",
    "    u,s,v = lin.svd(m)\n",
    "    \n",
    "    #compute sigma-plus matrix\n",
    "    s_plus = np.array([i ** (-1) for i in s if i != 0])\n",
    "    s_plus = np.diagflat(s_plus)\n",
    "    \n",
    "    #find solution\n",
    "    x = v.T @ s_plus.T @ u.T @ sol\n",
    "    return x\n",
    "\n",
    "\n",
    "#solve using Cramer's rule algorithm\n",
    "def cramerSolve(m, sol):\n",
    "    \n",
    "    x = inverse(m) @ sol\n",
    "    return x\n",
    "\n",
    "\n",
    "\n",
    "def testAlgs(N, num, reps):\n",
    "    lu_times = []\n",
    "    cramer_times = []\n",
    "    svd_times = []\n",
    "    \n",
    "    for i in range(2,N):\n",
    "        \n",
    "        rand_matrix = np.random.rand(i,i)\n",
    "        \n",
    "        #ensure non-singular matrix generated\n",
    "        while lin.det(rand_matrix) == 0:\n",
    "            rand_matrix = np.random.rand(i,i)\n",
    "        \n",
    "        s = np.random.rand(i,1)\n",
    "        \n",
    "        try:\n",
    "            lu_times.append(min(Timer(func.partial(luSolve,\n",
    "                                               rand_matrix, s))\n",
    "                            .repeat(repeat=reps, number=num)))\n",
    "            cramer_times.append(min(Timer(func.partial(cramerSolve,\n",
    "                                                  rand_matrix, s))\n",
    "                            .repeat(repeat=reps, number=num)))\n",
    "            svd_times.append(min(Timer(func.partial(svdSolve,\n",
    "                                                  rand_matrix, s))\n",
    "                            .repeat(repeat=reps, number=num)))\n",
    "        except Exception as e:\n",
    "            print(str(e))\n",
    "            testAlgs(N, num, reps)\n",
    "            break\n",
    "        \n",
    "        \n",
    "    return lu_times, svd_times, cramer_times\n",
    "\n",
    "        \n",
    "lu_times, svd_times, cramer_times = testAlgs(5, 100, 5)\n",
    "\n",
    "#plot data\n",
    "plt.scatter([i for i in range(2, len(lu_times) + 2)],\n",
    "            lu_times, label='LU')\n",
    "plt.scatter([i for i in range(2, len(svd_times) + 2)],\n",
    "            svd_times, label='SVD')\n",
    "plt.scatter([i for i in range(2, len(cramer_times) + 2)],\n",
    "            cramer_times, label='Cramer')\n",
    "\n",
    "#format plot\n",
    "plt.xlabel('N')\n",
    "#plt.ylim(bottom=0)\n",
    "plt.ylabel('t (s)')\n",
    "plt.legend()\n",
    "plt.title('Time taken vs matrix order')\n",
    "plt.show()\n",
    "\n",
    "plt.cla()\n",
    "plt.scatter([i for i in range(2,len(lu_times)+2)], lu_times, label='LU')\n",
    "plt.scatter([i for i in range(2,len(svd_times)+2)], svd_times, label='SVD')\n",
    "plt.xlabel('N')\n",
    "plt.ylabel('t (s)')\n",
    "plt.ylim(bottom=0)\n",
    "plt.legend()\n",
    "plt.title('Time taken vs matrix order')\n",
    "plt.show()\n"
   ]
  },
  {
   "cell_type": "markdown",
   "metadata": {
    "nbgrader": {
     "grade": true,
     "grade_id": "cell-03751361be568ee4",
     "locked": false,
     "points": 0,
     "schema_version": 1,
     "solution": true
    }
   },
   "source": [
    "Instead of allowing there to be a possibility of generating a singular matrix, I ensure that a non-singular matrix is generated before it is passed to the Timer. I also eliminate the possibility of a non-square matrix by providing only one variable parameter, N, for the matrix order."
   ]
  },
  {
   "cell_type": "markdown",
   "metadata": {},
   "source": [
    "## 1c)\n",
    "Now discuss the results you obtained above. Can you explain the results in terms of the number of operations performed by each function ?  You might want to look up the **computational complexity** of these algorithms.  How well do the curves conform to your explanation ?"
   ]
  },
  {
   "cell_type": "markdown",
   "metadata": {
    "nbgrader": {
     "grade": true,
     "grade_id": "cell-04fde6fb3806d00f",
     "locked": false,
     "points": 0,
     "schema_version": 1,
     "solution": true
    }
   },
   "source": [
    "Cramer's rule: Computational complexity is $\\mathcal{O}(n!\\cdot{n})$ since the function for calculating the determinant is $\\mathcal{O}(n!)$, and the adjugate function performs the same order of operations, but another $n$ times. \n",
    "\n",
    "LU Decomposition: Computational complexity is $\\mathcal{O}(n^{3})$\n"
   ]
  },
  {
   "cell_type": "markdown",
   "metadata": {},
   "source": [
    "## 1d)\n",
    "Next, we will study the precision of the algorithms - in particular, for near singular matrices. Write a routine that will estimate (and plot) the precision of the result when solving the equation below, for small values of k. Your function should do this for all 3 routines studied in Q1b).\n",
    "\n",
    "\\begin{eqnarray*}\n",
    "x + y + z & = & 5 \\\\\n",
    "x + 2y - z & = & 10 \\\\\n",
    "2x + 3y +kz & = & 15 \n",
    "\\end{eqnarray*}\n",
    "\n",
    "You will need to choose a method to estimate the precision, given that the equation solvers will return values for all of x, y, and z.\n",
    "\n",
    "As before, describe the functionality of the code and the choices you made writing it in the text cell below."
   ]
  },
  {
   "cell_type": "code",
   "execution_count": 4,
   "metadata": {
    "nbgrader": {
     "grade": true,
     "grade_id": "cell-e7ca81f308780180",
     "locked": false,
     "points": 0,
     "schema_version": 1,
     "solution": true
    }
   },
   "outputs": [
    {
     "data": {
      "image/png": "[encoded data removed]",
      "text/plain": [
       "<Figure size 432x288 with 2 Axes>"
      ]
     },
     "metadata": {},
     "output_type": "display_data"
    }
   ],
   "source": [
    "def estPrecision(k):\n",
    "    \n",
    "    \n",
    "    matrix = np.array([[1,1,1],[1,2,-1],[2,3,k]])\n",
    "    solution = np.array([5,10,15])\n",
    "    \n",
    "    #analytical solution\n",
    "    x = np.asarray([0, 5, 0])\n",
    "    x_mag = np.linalg.norm(x)\n",
    "    \n",
    "    #computational solution for given k\n",
    "    x_svd = svdSolve(matrix, solution)\n",
    "    x_lu = luSolve(matrix, solution)\n",
    "    x_cramer = cramerSolve(matrix, solution)\n",
    "    \n",
    "    #calculate fractional differences between computational\n",
    "    #and analytical solutions\n",
    "    diff_svd = np.linalg.norm(x_svd - x)/x_mag \n",
    "    diff_lu  = np.linalg.norm(x_lu - x)/x_mag\n",
    "    diff_cramer = np.linalg.norm(x_cramer - x)/x_mag\n",
    "        \n",
    "    return diff_svd, diff_lu, diff_cramer\n",
    "\n",
    "\n",
    "svd_prec = []\n",
    "lu_prec = []\n",
    "cramer_prec = []\n",
    "k_vals = []\n",
    "\n",
    "#estimate precision for a range of small k values\n",
    "for i in np.arange(0.0025, 0.5, 0.0025):\n",
    "    svd, lu, cramer = estPrecision(i)\n",
    "    svd_prec.append(svd*100)\n",
    "    lu_prec.append(lu*100)\n",
    "    cramer_prec.append(cramer*100)\n",
    "    k_vals.append(i)\n",
    "\n",
    "\n",
    "from mpl_toolkits.axes_grid1.inset_locator import zoomed_inset_axes\n",
    "from mpl_toolkits.axes_grid1.inset_locator import mark_inset\n",
    "fig, ax = plt.subplots()\n",
    "ax.plot(k_vals, svd_prec, label='SVD')\n",
    "ax.plot(k_vals, lu_prec, label='LU')\n",
    "ax.plot(k_vals, cramer_prec, label='Cramer')\n",
    "#plt.xlim(left = 0,right=2e-14)\n",
    "plt.xlabel('k')\n",
    "plt.ylabel('Perc. diff. of 2-norm (%)')\n",
    "plt.legend()\n",
    "\n",
    "ax_inset = zoomed_inset_axes(ax, 5, loc=7)\n",
    "ax_inset.plot(k_vals, svd_prec)\n",
    "ax_inset.plot(k_vals, lu_prec)\n",
    "ax_inset.plot(k_vals, cramer_prec)\n",
    "\n",
    "x1, x2, y1, y2 = 0.35, 0.4, 0, 2e-14\n",
    "ax_inset.set_xlim(x1, x2)\n",
    "ax_inset.set_ylim(y1, y2)\n",
    "plt.xticks(visible=False)\n",
    "ax_inset.set_yticks(ticks=[0,2e-12])\n",
    "\n",
    "ax_inset.ticklabel_format(style='sci')\n",
    "ax_inset.tick_params(axis='x',length=0)\n",
    "mark_inset(ax, ax_inset, loc1=4, loc2=3, fc='none')\n",
    "\n",
    "plt.show()"
   ]
  },
  {
   "cell_type": "markdown",
   "metadata": {
    "nbgrader": {
     "grade": true,
     "grade_id": "cell-78d0a2669ebb4e0e",
     "locked": false,
     "points": 0,
     "schema_version": 1,
     "solution": true
    }
   },
   "source": [
    "The objective of this piece of code is to estimate the precision of the different algorithms for the set of equations given above, so I have kept the function above specific to that case as opposed to some arbitrary set of equations and solutions.\n",
    "\n",
    "The metric by which the precision is measured in the above is the difference in the $2$-norm between the actual (analytical) solution vector $(x, y, z)$ and the computed solution vector.\n",
    "\n",
    "Inset, zoomed plot created to show that the magnitude of difference is still of the order of $\\sim10\\%$ or more, for the slightly larger $k$ values than at which the largest difference occurs (since the spike at $k\\sim0.25\\times10^{-14}$ dwarfs the rest of the plot)."
   ]
  },
  {
   "cell_type": "markdown",
   "metadata": {},
   "source": [
    "## 1e)\n",
    "Discuss your results in the test box below. You should describe the behaviour of each algorithm as k goes to 0, and explain what is happening in each case. How would these results affect your choice of algorithm ?"
   ]
  },
  {
   "cell_type": "markdown",
   "metadata": {
    "nbgrader": {
     "grade": true,
     "grade_id": "cell-f8d5e765aa97509e",
     "locked": false,
     "points": 0,
     "schema_version": 1,
     "solution": true
    }
   },
   "source": [
    "**Use this cell for your answer**"
   ]
  },
  {
   "cell_type": "markdown",
   "metadata": {},
   "source": [
    "## Q2\n",
    "This question is on eigenvalue problems.  \n",
    "\n",
    "## 2a)\n",
    "In this part you should write a function that will find the eigenvector/eigenvalues of a matrix A using \"Rayleigh quotient iteration\". The algorithm is as follows :\n",
    "\n",
    "1. An initial values for the eigenvalue $\\mu_0$ and eigenvector $b_0$ must be supplied\n",
    "\n",
    "2. The next approximation of the eigenvector is given by :\n",
    "$$b_{i+1} = \\frac{(A-\\mu_i I)^{-1}b_i}{|(A-\\mu_i I)^{-1}b_i|}$$\n",
    "\n",
    "3. The corresponding eigenvalue is given by :\n",
    "\n",
    "$$\\mu_{i+1} = \\frac{b^*_{i+1}Ab_{i+1}}{b^*_{i+1}b_{i+1}}$$\n",
    "\n",
    "4. Now iterate steps 2 and 3 until convergence is reached for a specified precision, ie.\n",
    "$$\\mu_{i+1} - \\mu < a_{tol}$$\n",
    "\n",
    "(Note that the numerator in 2. can also be found by solving $(A-\\mu_i I)x = b$) \n",
    "\n",
    "Your function should take arguments for the matrix A, the initial estimates of eigenvalue and eigenvector, and the precision required (ie. a convergence condition).\n",
    "\n",
    "You should use vector and matrix algebra routines from numpy and scipy.linalg for the operations described above.\n",
    "\n",
    "Explain the choices you made when writing this code in the text cell below."
   ]
  },
  {
   "cell_type": "code",
   "execution_count": 13,
   "metadata": {
    "nbgrader": {
     "grade": true,
     "grade_id": "cell-ce86ca7e165dcbff",
     "locked": false,
     "points": 0,
     "schema_version": 1,
     "solution": true
    }
   },
   "outputs": [],
   "source": [
    "def rayleigh(A, mu_0, b_0, a_tol):\n",
    "    mu = mu_0\n",
    "    b = b_0\n",
    "    mu_prev = mu_0\n",
    "    b_prev = b_0\n",
    "    while (abs(mu - mu_prev) >= a_tol) or (mu == mu_0):\n",
    "        \n",
    "        mu_prev = mu\n",
    "        \n",
    "        x = lin.inv(A - mu_prev * np.eye(A.shape[0], A.shape[1])) @ b_prev\n",
    "        x_mag = np.linalg.norm(x)\n",
    "        \n",
    "        b = x / x_mag\n",
    "        b *= 1/b[0]\n",
    "        \n",
    "        mu = (np.conj(b).T @ A @ b) / (np.conj(b).T @ b)\n",
    "        print(mu)\n",
    "    return mu, b\n",
    "    \n",
    "#M = np.random.rand(3,3)\n",
    "#M = M + M.T - np.diag(M.diagonal())\n",
    "#rayleigh(M,1,np.array([1,1,1]),1e-14)"
   ]
  },
  {
   "cell_type": "markdown",
   "metadata": {
    "nbgrader": {
     "grade": true,
     "grade_id": "cell-aaf792272b74faa7",
     "locked": false,
     "points": 0,
     "schema_version": 1,
     "solution": true
    }
   },
   "source": [
    "**Use this cell for text**"
   ]
  },
  {
   "cell_type": "markdown",
   "metadata": {},
   "source": [
    "### 2b)\n",
    "Now test your function using a matrix with known eigenvalues / vectors. You can use :\n",
    "$$\\left(\\begin{array}{ccc} 1 & 2 & 3 \\\\ 1 & 2 & 1 \\\\ 3 & 2 & 1 \\end{array}\\right)$$\n",
    "\n",
    "The leading eigenvalue of this matrix is $\\sqrt{5}+3$, which corresponds to the eigenvector :\n",
    "$$\\left(\\begin{array}{c} 1 \\\\ \\frac{\\sqrt(5)}{2} \\\\ 1 \\end{array}\\right)$$"
   ]
  },
  {
   "cell_type": "code",
   "execution_count": 14,
   "metadata": {
    "nbgrader": {
     "grade": true,
     "grade_id": "cell-420b5ba8f75bfa21",
     "locked": false,
     "points": 0,
     "schema_version": 1,
     "solution": true
    },
    "scrolled": true
   },
   "outputs": [
    {
     "name": "stdout",
     "output_type": "stream",
     "text": [
      "[[1 2 3]\n",
      " [1 2 1]\n",
      " [3 2 1]]\n",
      "0.744186046511628\n",
      "0.7655633834020118\n",
      "0.7637970770972824\n",
      "0.7639431839944416\n",
      "0.7639310993120826\n",
      "0.7639320988587794\n",
      "0.7639320161844537\n",
      "0.763932023022598\n",
      "0.7639320224570026\n",
      "0.7639320225037841\n",
      "0.7639320224999145\n",
      "0.7639320225002345\n",
      "0.7639320225002083\n",
      "0.7639320225002104\n",
      "0.7639320225002102\n",
      "0.7639320225002102\n",
      "0.7639320225002102\n",
      "4.842105263157894\n",
      "5.2082241483571865\n",
      "5.234345907812369\n",
      "5.235962435802858\n",
      "5.23606151271829\n",
      "5.236067581523936\n",
      "5.23606795324583\n",
      "5.236067976014208\n",
      "5.236067977408796\n",
      "5.236067977494216\n",
      "5.236067977499448\n",
      "5.2360679774997685\n",
      "5.236067977499788\n",
      "5.23606797749979\n",
      "5.23606797749979\n",
      "4.842105263157894\n",
      "5.2082241483571865\n",
      "5.234345907812369\n",
      "5.235962435802858\n",
      "5.23606151271829\n",
      "5.236067581523936\n",
      "5.23606795324583\n",
      "5.236067976014208\n",
      "5.236067977408796\n",
      "5.236067977494216\n",
      "5.236067977499448\n",
      "5.2360679774997685\n",
      "5.236067977499788\n",
      "5.23606797749979\n",
      "5.23606797749979\n"
     ]
    },
    {
     "data": {
      "text/plain": [
       "True"
      ]
     },
     "execution_count": 14,
     "metadata": {},
     "output_type": "execute_result"
    }
   ],
   "source": [
    "# use this cell for code\n",
    "test_matrix = np.array([[1,2,3],[1,2,1],[3,2,1]])\n",
    "#test_matrix = np.random.rand(3,3)\n",
    "print(test_matrix)\n",
    "print(rayleigh(test_matrix, 1, np.array([1,-1,1]), 1e-19)[0])\n",
    "#mu, b = rayleigh(test_matrix, 1, np.array([1,-1,1]), 1e-19)\n",
    "\n",
    "np.allclose(rayleigh(test_matrix, 3, np.array([1,1,1]), 1e-19)[1], np.array([1,np.sqrt(5)/2 - 1/2,1]),atol=1e-19)\n",
    "np.allclose(rayleigh(test_matrix, 3, np.array([1,1,1]), 1e-19)[0], np.sqrt(5)+3,atol=1e-19)"
   ]
  },
  {
   "cell_type": "markdown",
   "metadata": {},
   "source": [
    "## 2c)\n",
    "Your function should find the largest eigenvalue of a matrix, along with it's corresponding eigenvector. Given that eigenvectors of a real symmetric matrix are orthogonal, can you think of a method to find the 2nd eigenvector of the above matrix ? How could you extend this to non-symmetric matrices ? Discuss in the text box below, and use the code cell below that if you want to write any code to demonstrate your answer. "
   ]
  },
  {
   "cell_type": "markdown",
   "metadata": {
    "nbgrader": {
     "grade": true,
     "grade_id": "cell-4e78ff7ada9534f2",
     "locked": false,
     "points": 0,
     "schema_version": 1,
     "solution": true
    }
   },
   "source": [
    "Could continually make random initial guesses and use Rayleigh Quotient Iteration until an eigenvalue/eigenvector different from the first has been found. For a $3x3$ matrix such as the one above, this is all that is required, since then orthogonality of the 3 eigenvectors can be used to find the final eigenvector.\n",
    "\n",
    "We could also be slightly smarter about the initial guess when finding the second eigenvector, as we know it has to be orthogonal to the first. This means, for example, that we could generate a random vector linearly independent from the first eigenvector, and employ the Gram-Schmidt procedure to achieve a better guess at the second eigenvector (assuming it is closer). Perhaps we may have to do this several times if the guess keeps converging on the first eigenvector found.\n",
    "\n",
    "For higher order matrices of order $M$, the same has to be done, but in general we have to find $M-1$ eigenvectors in order to find the final one.\n",
    "\n",
    "However, there are other (presumably much better) ways of finding the other eigenvalues, namely 'deflation' techniques.\n",
    "I will implement Hotelling's Deflation method."
   ]
  },
  {
   "cell_type": "code",
   "execution_count": 15,
   "metadata": {
    "nbgrader": {
     "grade": true,
     "grade_id": "cell-dfd45ebbcc60b449",
     "locked": false,
     "points": 0,
     "schema_version": 1,
     "solution": true
    }
   },
   "outputs": [
    {
     "name": "stdout",
     "output_type": "stream",
     "text": [
      "6.444444444444445\n",
      "6.70150071201665\n",
      "6.701562118713198\n",
      "6.701562118716424\n"
     ]
    },
    {
     "ename": "LinAlgError",
     "evalue": "singular matrix",
     "output_type": "error",
     "traceback": [
      "\u001b[1;31m---------------------------------------------------------------------------\u001b[0m",
      "\u001b[1;31mLinAlgError\u001b[0m                               Traceback (most recent call last)",
      "\u001b[1;32m<ipython-input-15-e3ca685cb2cf>\u001b[0m in \u001b[0;36m<module>\u001b[1;34m()\u001b[0m\n\u001b[0;32m      3\u001b[0m \u001b[1;33m\u001b[0m\u001b[0m\n\u001b[0;32m      4\u001b[0m \u001b[1;31m#find an eigenpair\u001b[0m\u001b[1;33m\u001b[0m\u001b[1;33m\u001b[0m\u001b[0m\n\u001b[1;32m----> 5\u001b[1;33m \u001b[0mmu_1\u001b[0m\u001b[1;33m,\u001b[0m \u001b[0mb_1\u001b[0m \u001b[1;33m=\u001b[0m \u001b[0mrayleigh\u001b[0m\u001b[1;33m(\u001b[0m\u001b[0mtest_matrix\u001b[0m\u001b[1;33m,\u001b[0m \u001b[1;36m2\u001b[0m\u001b[1;33m,\u001b[0m \u001b[0mnp\u001b[0m\u001b[1;33m.\u001b[0m\u001b[0marray\u001b[0m\u001b[1;33m(\u001b[0m\u001b[1;33m[\u001b[0m\u001b[1;36m1\u001b[0m\u001b[1;33m,\u001b[0m\u001b[1;36m1\u001b[0m\u001b[1;33m,\u001b[0m\u001b[1;36m1\u001b[0m\u001b[1;33m]\u001b[0m\u001b[1;33m)\u001b[0m\u001b[1;33m,\u001b[0m \u001b[1;36m1e-19\u001b[0m\u001b[1;33m)\u001b[0m\u001b[1;33m\u001b[0m\u001b[0m\n\u001b[0m\u001b[0;32m      6\u001b[0m \u001b[0mprint\u001b[0m\u001b[1;33m(\u001b[0m\u001b[0mmu_1\u001b[0m\u001b[1;33m,\u001b[0m \u001b[0mb_1\u001b[0m\u001b[1;33m)\u001b[0m\u001b[1;33m\u001b[0m\u001b[0m\n\u001b[0;32m      7\u001b[0m \u001b[1;33m\u001b[0m\u001b[0m\n",
      "\u001b[1;32m<ipython-input-13-c79777962222>\u001b[0m in \u001b[0;36mrayleigh\u001b[1;34m(A, mu_0, b_0, a_tol)\u001b[0m\n\u001b[0;32m      8\u001b[0m         \u001b[0mmu_prev\u001b[0m \u001b[1;33m=\u001b[0m \u001b[0mmu\u001b[0m\u001b[1;33m\u001b[0m\u001b[0m\n\u001b[0;32m      9\u001b[0m \u001b[1;33m\u001b[0m\u001b[0m\n\u001b[1;32m---> 10\u001b[1;33m         \u001b[0mx\u001b[0m \u001b[1;33m=\u001b[0m \u001b[0mlin\u001b[0m\u001b[1;33m.\u001b[0m\u001b[0minv\u001b[0m\u001b[1;33m(\u001b[0m\u001b[0mA\u001b[0m \u001b[1;33m-\u001b[0m \u001b[0mmu_prev\u001b[0m \u001b[1;33m*\u001b[0m \u001b[0mnp\u001b[0m\u001b[1;33m.\u001b[0m\u001b[0meye\u001b[0m\u001b[1;33m(\u001b[0m\u001b[0mA\u001b[0m\u001b[1;33m.\u001b[0m\u001b[0mshape\u001b[0m\u001b[1;33m[\u001b[0m\u001b[1;36m0\u001b[0m\u001b[1;33m]\u001b[0m\u001b[1;33m,\u001b[0m \u001b[0mA\u001b[0m\u001b[1;33m.\u001b[0m\u001b[0mshape\u001b[0m\u001b[1;33m[\u001b[0m\u001b[1;36m1\u001b[0m\u001b[1;33m]\u001b[0m\u001b[1;33m)\u001b[0m\u001b[1;33m)\u001b[0m \u001b[1;33m@\u001b[0m \u001b[0mb_prev\u001b[0m\u001b[1;33m\u001b[0m\u001b[0m\n\u001b[0m\u001b[0;32m     11\u001b[0m         \u001b[0mx_mag\u001b[0m \u001b[1;33m=\u001b[0m \u001b[0mnp\u001b[0m\u001b[1;33m.\u001b[0m\u001b[0mlinalg\u001b[0m\u001b[1;33m.\u001b[0m\u001b[0mnorm\u001b[0m\u001b[1;33m(\u001b[0m\u001b[0mx\u001b[0m\u001b[1;33m)\u001b[0m\u001b[1;33m\u001b[0m\u001b[0m\n\u001b[0;32m     12\u001b[0m \u001b[1;33m\u001b[0m\u001b[0m\n",
      "\u001b[1;32m~\\Documents\\Physics Bristol\\Python Scripts\\New folder\\lib\\site-packages\\scipy\\linalg\\basic.py\u001b[0m in \u001b[0;36minv\u001b[1;34m(a, overwrite_a, check_finite)\u001b[0m\n\u001b[0;32m    973\u001b[0m         \u001b[0minv_a\u001b[0m\u001b[1;33m,\u001b[0m \u001b[0minfo\u001b[0m \u001b[1;33m=\u001b[0m \u001b[0mgetri\u001b[0m\u001b[1;33m(\u001b[0m\u001b[0mlu\u001b[0m\u001b[1;33m,\u001b[0m \u001b[0mpiv\u001b[0m\u001b[1;33m,\u001b[0m \u001b[0mlwork\u001b[0m\u001b[1;33m=\u001b[0m\u001b[0mlwork\u001b[0m\u001b[1;33m,\u001b[0m \u001b[0moverwrite_lu\u001b[0m\u001b[1;33m=\u001b[0m\u001b[1;36m1\u001b[0m\u001b[1;33m)\u001b[0m\u001b[1;33m\u001b[0m\u001b[0m\n\u001b[0;32m    974\u001b[0m     \u001b[1;32mif\u001b[0m \u001b[0minfo\u001b[0m \u001b[1;33m>\u001b[0m \u001b[1;36m0\u001b[0m\u001b[1;33m:\u001b[0m\u001b[1;33m\u001b[0m\u001b[0m\n\u001b[1;32m--> 975\u001b[1;33m         \u001b[1;32mraise\u001b[0m \u001b[0mLinAlgError\u001b[0m\u001b[1;33m(\u001b[0m\u001b[1;34m\"singular matrix\"\u001b[0m\u001b[1;33m)\u001b[0m\u001b[1;33m\u001b[0m\u001b[0m\n\u001b[0m\u001b[0;32m    976\u001b[0m     \u001b[1;32mif\u001b[0m \u001b[0minfo\u001b[0m \u001b[1;33m<\u001b[0m \u001b[1;36m0\u001b[0m\u001b[1;33m:\u001b[0m\u001b[1;33m\u001b[0m\u001b[0m\n\u001b[0;32m    977\u001b[0m         raise ValueError('illegal value in %d-th argument of internal '\n",
      "\u001b[1;31mLinAlgError\u001b[0m: singular matrix"
     ]
    }
   ],
   "source": [
    "#symmetric matrix\n",
    "test_matrix = np.array([[1,2,4],[2,2,2],[4,2,1]])\n",
    "\n",
    "#find an eigenpair\n",
    "mu_1, b_1 = rayleigh(test_matrix, 2, np.array([1,1,1]), 1e-19)\n",
    "print(mu_1, b_1)\n",
    "\n",
    "#generate random eigenvector guess\n",
    "guess = np.random.rand(3,)\n",
    "\n",
    "#produce orthogonal vector to b_1 via Gram-Schmidt\n",
    "guess -= ((guess.dot(b_1)) * b_1)/(b_1.dot(b_1))\n",
    "print(guess)\n",
    "\n",
    "#Hotelling deflation with reasonable guess\n",
    "mu_2, b_2 = rayleigh(test_matrix - mu_1 * (b_1 @ b_1.T), 3, guess, 1e-19)\n",
    "print(mu_2, b_2)\n",
    "\n",
    "#find final eigenvector by cross-product\n",
    "b_3 = np.cross(b_1, b_2)\n",
    "b_3 *= (1/b_3[0])\n",
    "print(b_3)\n",
    "\n"
   ]
  },
  {
   "attachments": {
    "coupled-masses.png": {
     "image/png": "[encoded data removed]"
    }
   },
   "cell_type": "markdown",
   "metadata": {},
   "source": [
    "## Q3\n",
    "\n",
    "For this question you should write a function that will find the eigenvalues of the coupled system of oscillators shown below.\n",
    "\n",
    "![coupled-masses.png](attachment:coupled-masses.png)\n",
    "\n",
    "If the displacement of the $i$th mass from its equilibrium position is denoted as $x_i$, the force on the mass is given by the tension in the two springs as :\n",
    "\n",
    "$$F_i = −k(x_i − x_i−1) + k(x_i+1 − x_i) = −k(2x_i − x_i−1 − x_i+1)$$\n",
    "\n",
    "We can assume that there are normal mode solutions, i.e. solutions of the form $x_i = z_i e^{i\\omega t}$ in which all masses oscillate with the same frequency $\\omega$ but with unknown phasors $z_i$. Then the above equation becomes :\n",
    "\n",
    "$$F_i = m\\ddot{x}_i = −m\\omega^2x_i = −k(2x_i − x_i−1 − x_i+1)$$\n",
    "\n",
    "This is one row of a matrix equation describing the entire system :\n",
    "\n",
    "$$m\\omega^2x_i \\left(\\begin{array}{c} \\vdots \\\\ \\\\ x_i \\\\ \\\\ \\vdots \\end{array}\\right) = \n",
    "\\left(\\begin{array}{ccccccc} & & & \\vdots & & & \\\\ \\cdots & 0 & -1 & 2 & 1 & 0 & \\cdots \\\\ & & & \\vdots & & & \\end{array}\\right)\n",
    "\\left(\\begin{array}{c} \\vdots \\\\ x_{i-1} \\\\ x_i \\\\ x_{i+1} \\\\ \\vdots \\end{array}\\right)\n",
    "$$\n",
    "\n",
    "This example is a typical eigenvalue problem, in that many of the matrix elements are zero, which can greatly simplify the computational challenge and make even large systems solvable.\n",
    "\n",
    "## 3a)\n",
    "Write a function in the cell below that will calculate the normal modes and corresponding oscillation frequencies for a system of three identical masses connected by identical springs as shown above.\n",
    "\n",
    "As for previous questions, briefly describe how your code works and the choices you made when writing it in the text cell below."
   ]
  },
  {
   "cell_type": "code",
   "execution_count": 19,
   "metadata": {
    "nbgrader": {
     "grade": true,
     "grade_id": "cell-d7eab03b4ae045aa",
     "locked": false,
     "points": 0,
     "schema_version": 1,
     "solution": true
    }
   },
   "outputs": [
    {
     "name": "stdout",
     "output_type": "stream",
     "text": [
      "eigenvalues: [3.41421356 2.         0.58578644]\n",
      "eigenvectors: [[-5.00000000e-01 -7.07106781e-01  5.00000000e-01]\n",
      " [ 7.07106781e-01  4.05405432e-16  7.07106781e-01]\n",
      " [-5.00000000e-01  7.07106781e-01  5.00000000e-01]]\n"
     ]
    }
   ],
   "source": [
    "# use this cell for code\n",
    "\n",
    "def normal_modes(coeff_matrix):\n",
    "    eig_vals, eig_vecs = np.linalg.eig(coeff_matrix)\n",
    "    \n",
    "    return eig_vals, eig_vecs\n",
    "    \n",
    "coeffs = np.array([[2,-1,0],[-1,2,-1],[0,-1,2]])\n",
    "#x = np.array([])\n",
    "print(\"eigenvalues:\", normal_modes(coeffs)[0])\n",
    "print(\"eigenvectors:\", normal_modes(coeffs)[1])\n",
    "\n",
    "\n"
   ]
  },
  {
   "cell_type": "markdown",
   "metadata": {
    "nbgrader": {
     "grade": true,
     "grade_id": "cell-9c06838344116545",
     "locked": false,
     "points": 0,
     "schema_version": 1,
     "solution": true
    }
   },
   "source": [
    "**Use this cell for text**"
   ]
  },
  {
   "cell_type": "markdown",
   "metadata": {},
   "source": [
    "## 3b)\n",
    "Discuss your results above. Describe the physical interpretation of each mode you have found ? How does the behaviour change if the springs at either end are removed ?"
   ]
  },
  {
   "cell_type": "markdown",
   "metadata": {
    "nbgrader": {
     "grade": true,
     "grade_id": "cell-f81c988ef09f6afc",
     "locked": false,
     "points": 0,
     "schema_version": 1,
     "solution": true
    }
   },
   "source": [
    "**Use this cell for your answer**"
   ]
  },
  {
   "cell_type": "code",
   "execution_count": null,
   "metadata": {},
   "outputs": [],
   "source": []
  }
 ],
 "metadata": {
  "celltoolbar": "Create Assignment",
  "kernelspec": {
   "display_name": "Python 3",
   "language": "python",
   "name": "python3"
  },
  "language_info": {
   "codemirror_mode": {
    "name": "ipython",
    "version": 3
   },
   "file_extension": ".py",
   "mimetype": "text/x-python",
   "name": "python",
   "nbconvert_exporter": "python",
   "pygments_lexer": "ipython3",
   "version": "3.7.3"
  }
 },
 "nbformat": 4,
 "nbformat_minor": 2
}
