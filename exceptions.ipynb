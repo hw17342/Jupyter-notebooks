{
 "cells": [
  {
   "cell_type": "markdown",
   "metadata": {},
   "source": [
    " # Exceptions\n",
    " \n",
    "This is a short introduction to \"Exceptions\", an error handling technique commonly used in modern programming languages. It is the standard way to deal with errors in Python and both numpy and scipy use them. Raising exceptions in your own functions, and knowing how to deal with exceptions raised by other code, will help you write more robust code."
   ]
  },
  {
   "cell_type": "markdown",
   "metadata": {},
   "source": [
    "## Example without Exceptions\n",
    "\n",
    "Suppose I have a function that works for positive number, but I know it will fail if given a negative input.  Rather than let the code crash, or (worse) return incorrect results, we can detect this problem and do something sensible.\n",
    "\n",
    "One option might be to test the argument given to the function, print an error message, and return a default value (NaN, in this case) :"
   ]
  },
  {
   "cell_type": "code",
   "execution_count": 44,
   "metadata": {},
   "outputs": [],
   "source": [
    "import math\n",
    "import numpy as np\n",
    "\n",
    "def mySqrt(x):\n",
    "    \n",
    "    if x<0:\n",
    "        print(\"Input must be positive.\")\n",
    "        return np.NaN\n",
    "    \n",
    "    return math.sqrt(x)"
   ]
  },
  {
   "cell_type": "markdown",
   "metadata": {},
   "source": [
    "Let's test this with a couple of examples..."
   ]
  },
  {
   "cell_type": "code",
   "execution_count": 45,
   "metadata": {},
   "outputs": [
    {
     "name": "stdout",
     "output_type": "stream",
     "text": [
      "2.0\n",
      "Input must be positive.\n",
      "nan\n"
     ]
    }
   ],
   "source": [
    "print(mySqrt(4))\n",
    "print(mySqrt(-3))"
   ]
  },
  {
   "cell_type": "markdown",
   "metadata": {},
   "source": [
    "This method for dealing with errors is better than nothing, but it has limitations.  In particular :\n",
    "1. Returning a default value when the input is invalid may cause further knock-on problems\n",
    "2. We have no way of knowing what caused our function to be called with an invalid argument \n",
    "\n",
    "We can avoid 1. by eg. halting execution of the program after printing the error message, eg. by calling sys.exit(). However, this is quite extreme and maybe not appropriate for all cases. And even if halting execution is the only option - we still have no way of dealing with point 2.\n",
    "\n",
    "## Raising Exceptions\n",
    "\n",
    "Use of exceptions defers judgement about the appropriate course of action to the code that calls myFunction(), or even the code that calls that code. And, if ultimately the only option is to stop the program, exceptions provide some means to understand where the problem occurred.\n",
    "\n",
    "Here is how we would handle this error using an exception :"
   ]
  },
  {
   "cell_type": "code",
   "execution_count": 46,
   "metadata": {},
   "outputs": [],
   "source": [
    "def mySqrt(x):\n",
    "    \n",
    "    if x<0:\n",
    "        raise Exception(\"Negative input\")\n",
    "    \n",
    "    return math.sqrt(x)"
   ]
  },
  {
   "cell_type": "code",
   "execution_count": 47,
   "metadata": {},
   "outputs": [
    {
     "name": "stdout",
     "output_type": "stream",
     "text": [
      "2.0\n"
     ]
    },
    {
     "ename": "Exception",
     "evalue": "Negative input",
     "output_type": "error",
     "traceback": [
      "\u001b[0;31m---------------------------------------------------------------------------\u001b[0m",
      "\u001b[0;31mException\u001b[0m                                 Traceback (most recent call last)",
      "\u001b[0;32m<ipython-input-47-77b55444c5ce>\u001b[0m in \u001b[0;36m<module>\u001b[0;34m\u001b[0m\n\u001b[1;32m      1\u001b[0m \u001b[0mprint\u001b[0m\u001b[0;34m(\u001b[0m\u001b[0mmySqrt\u001b[0m\u001b[0;34m(\u001b[0m\u001b[0;36m4\u001b[0m\u001b[0;34m)\u001b[0m\u001b[0;34m)\u001b[0m\u001b[0;34m\u001b[0m\u001b[0;34m\u001b[0m\u001b[0m\n\u001b[0;32m----> 2\u001b[0;31m \u001b[0mprint\u001b[0m\u001b[0;34m(\u001b[0m\u001b[0mmySqrt\u001b[0m\u001b[0;34m(\u001b[0m\u001b[0;34m-\u001b[0m\u001b[0;36m4\u001b[0m\u001b[0;34m)\u001b[0m\u001b[0;34m)\u001b[0m\u001b[0;34m\u001b[0m\u001b[0;34m\u001b[0m\u001b[0m\n\u001b[0m",
      "\u001b[0;32m<ipython-input-46-05fb5b1bb419>\u001b[0m in \u001b[0;36mmySqrt\u001b[0;34m(x)\u001b[0m\n\u001b[1;32m      2\u001b[0m \u001b[0;34m\u001b[0m\u001b[0m\n\u001b[1;32m      3\u001b[0m     \u001b[0;32mif\u001b[0m \u001b[0mx\u001b[0m\u001b[0;34m<\u001b[0m\u001b[0;36m0\u001b[0m\u001b[0;34m:\u001b[0m\u001b[0;34m\u001b[0m\u001b[0;34m\u001b[0m\u001b[0m\n\u001b[0;32m----> 4\u001b[0;31m         \u001b[0;32mraise\u001b[0m \u001b[0mException\u001b[0m\u001b[0;34m(\u001b[0m\u001b[0;34m\"Negative input\"\u001b[0m\u001b[0;34m)\u001b[0m\u001b[0;34m\u001b[0m\u001b[0;34m\u001b[0m\u001b[0m\n\u001b[0m\u001b[1;32m      5\u001b[0m \u001b[0;34m\u001b[0m\u001b[0m\n\u001b[1;32m      6\u001b[0m     \u001b[0;32mreturn\u001b[0m \u001b[0mmath\u001b[0m\u001b[0;34m.\u001b[0m\u001b[0msqrt\u001b[0m\u001b[0;34m(\u001b[0m\u001b[0mx\u001b[0m\u001b[0;34m)\u001b[0m\u001b[0;34m\u001b[0m\u001b[0;34m\u001b[0m\u001b[0m\n",
      "\u001b[0;31mException\u001b[0m: Negative input"
     ]
    }
   ],
   "source": [
    "print(mySqrt(4))\n",
    "print(mySqrt(-4))"
   ]
  },
  {
   "cell_type": "markdown",
   "metadata": {},
   "source": [
    "You might have seen this kind of print out when debugging code. The \"Traceback\" lists the function calls that led to the exception being raised."
   ]
  },
  {
   "cell_type": "markdown",
   "metadata": {},
   "source": [
    "## Catching Exceptions\n",
    "\n",
    "Raising an exception is only half of the process. The other half is \"catching\" them.\n",
    "\n",
    "Let's say we have a function that calls mySqrt() but it knows what to do if the exception is raised.  We can use a \"try - except\" block to catch that exception and take the correct course of action."
   ]
  },
  {
   "cell_type": "code",
   "execution_count": 48,
   "metadata": {},
   "outputs": [],
   "source": [
    "def mySqrtComplex(x):\n",
    "\n",
    "    try:\n",
    "        y = mySqrt(x)\n",
    "    except Exception:\n",
    "        y = 1j * mySqrt(abs(x))\n",
    "\n",
    "    return y"
   ]
  },
  {
   "cell_type": "code",
   "execution_count": 49,
   "metadata": {},
   "outputs": [
    {
     "name": "stdout",
     "output_type": "stream",
     "text": [
      "4.0\n",
      "4j\n"
     ]
    }
   ],
   "source": [
    "print(mySqrtComplex(16))\n",
    "print(mySqrtComplex(-16))"
   ]
  },
  {
   "cell_type": "markdown",
   "metadata": {},
   "source": [
    "Note that this code doesn't know how to handle complex arguments...  You might want to try adding another exception to catch this."
   ]
  },
  {
   "cell_type": "markdown",
   "metadata": {},
   "source": [
    "## Handling Other Exceptions\n",
    "\n",
    "You might find you dcan get away without raising any exceptions in your code.  However, scipy and numpy will raise exceptions, and knowing how to handle them can be useful.\n",
    "\n",
    "For example, a number of linear algebra routines in scipy.linalg cannot proceed if given a singular matrix.  In this case, they will raise a numpy.linalg.LinAlgError exception :\n",
    "https://docs.scipy.org/doc/numpy/reference/generated/numpy.linalg.LinAlgError.html#numpy.linalg.LinAlgError\n",
    "\n",
    "(As well as the built-in Exception, Python3 provides for definition of dedicated exception types, like this one.  This allows exception handling code to distinguish different classes of error condition, which is useful when deciding what to do).\n",
    "\n",
    "An example of how to catch this kind of exception is below."
   ]
  },
  {
   "cell_type": "code",
   "execution_count": 55,
   "metadata": {},
   "outputs": [
    {
     "name": "stdout",
     "output_type": "stream",
     "text": [
      "[[0. 0.]\n",
      " [0. 0.]]\n",
      "Caught an exception : singular matrix\n"
     ]
    }
   ],
   "source": [
    "import scipy.linalg\n",
    "\n",
    "m = np.zeros((2,2))\n",
    "print(m)\n",
    "\n",
    "try:\n",
    "    scipy.linalg.inv(m)\n",
    "except scipy.linalg.LinAlgError as err:\n",
    "    print(\"Caught an exception :\", err)"
   ]
  },
  {
   "cell_type": "code",
   "execution_count": null,
   "metadata": {},
   "outputs": [],
   "source": []
  }
 ],
 "metadata": {
  "kernelspec": {
   "display_name": "Python 3",
   "language": "python",
   "name": "python3"
  },
  "language_info": {
   "codemirror_mode": {
    "name": "ipython",
    "version": 3
   },
   "file_extension": ".py",
   "mimetype": "text/x-python",
   "name": "python",
   "nbconvert_exporter": "python",
   "pygments_lexer": "ipython3",
   "version": "3.7.3"
  }
 },
 "nbformat": 4,
 "nbformat_minor": 2
}
